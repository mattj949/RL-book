{
 "cells": [
  {
   "cell_type": "code",
   "execution_count": null,
   "id": "219e662a-fa4b-4251-ba9d-916a423dbfbd",
   "metadata": {},
   "outputs": [],
   "source": [
    "\n",
    "\n",
    "\n",
    "# From page 73\n",
    "class FiniteMarkovProcess(MarkovProcess[S]):\n",
    "    non_terminal_states: Sequence[NonTerminal[S]]\n",
    "    transition_map: Transition[S]\n",
    "    def __init__(self, transition_map: Mapping[S, FiniteDistribution[S]]):\n",
    "        non_terminals: Set[S] = set(transition_map.keys())\n",
    "        self.transition_map = {\n",
    "            NonTerminal(s): Categorical(\n",
    "                {(NonTerminal(s1) if s1 in non_terminals else Terminal(s1)): p\n",
    "                 for s1, p in v.table().items()}\n",
    "            ) for s, v in transition_map.items()\n",
    "        }\n",
    "        self.non_terminal_states = list(self.transition_map.keys())\n",
    "    def __repr__(self) -> str:\n",
    "        display = ””\n",
    "        for s, d in self.transition_map.items():\n",
    "            display += f”From State {s.state}:\\n”\n",
    "            for s1, p in d:\n",
    "                opt = ”Terminal ” if isinstance(s1, Terminal) else ””\n",
    "                display += f”  To {opt}State {s1.state} with Probability {p:.3f}\\n”\n",
    "        return display\n",
    "    def transition(self, state: NonTerminal[S])\\\n",
    "            -> FiniteDistribution[State[S]]:\n",
    "        return self.transition_map[state]"
   ]
  }
 ],
 "metadata": {
  "kernelspec": {
   "display_name": "Python 3 (ipykernel)",
   "language": "python",
   "name": "python3"
  },
  "language_info": {
   "codemirror_mode": {
    "name": "ipython",
    "version": 3
   },
   "file_extension": ".py",
   "mimetype": "text/x-python",
   "name": "python",
   "nbconvert_exporter": "python",
   "pygments_lexer": "ipython3",
   "version": "3.8.12"
  }
 },
 "nbformat": 4,
 "nbformat_minor": 5
}
