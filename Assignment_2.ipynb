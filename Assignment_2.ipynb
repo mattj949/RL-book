{
 "cells": [
  {
   "cell_type": "code",
   "execution_count": 43,
   "id": "ad9772e5-d199-4063-bb24-26cae079de69",
   "metadata": {},
   "outputs": [],
   "source": [
    "from __future__ import annotations\n",
    "from abc import ABC, abstractmethod\n",
    "from collections import defaultdict\n",
    "from dataclasses import dataclass\n",
    "import graphviz\n",
    "import itertools\n",
    "from matplotlib import pyplot as plt\n",
    "import numpy as np\n",
    "import random\n",
    "from pprint import pprint\n",
    "from typing import (Callable, Dict, Iterable, Generic, Sequence, Tuple,\n",
    "                    Mapping, TypeVar, Set)\n",
    "\n",
    "from rl.distribution import (Categorical, Distribution,\n",
    "                            Gaussian, Choose, Constant)\n",
    "from rl.markov_process import MarkovProcess, NonTerminal, Terminal, State"
   ]
  },
  {
   "cell_type": "markdown",
   "id": "c3ec6901-9e7f-4a87-9f72-ed92d05e11d8",
   "metadata": {},
   "source": [
    "## State"
   ]
  },
  {
   "cell_type": "markdown",
   "id": "3197ff38-977d-42ff-b6bd-6d74b807480e",
   "metadata": {},
   "source": [
    "State Space: 100 locations on a 10x10 game board.\n",
    "\n",
    "Transition Probabilities: Equal probability of moving [1,2,3,4,5,6] steps ahead, combined with small probability of taking an additional [3,5,7,10] steps backwards or [2,3,5,7] steps forward. "
   ]
  },
  {
   "cell_type": "code",
   "execution_count": 6,
   "id": "e9885264-c654-4127-a65a-c7e3e1de34d7",
   "metadata": {},
   "outputs": [],
   "source": [
    "@dataclass(frozen=True)\n",
    "class Die(Distribution[int]):\n",
    "    sides: int\n",
    "    def sample(self) -> int:\n",
    "        return random.randint(1, self.sides)\n",
    "    \n",
    "    def expectation(self) -> int:\n",
    "        return (int + 1) / 2\n",
    "\n",
    "@dataclass(frozen=True)\n",
    "class StateSaL:\n",
    "    position: int\n",
    "    \n",
    "@dataclass\n",
    "class SnakesandLadders(MarkovProcess[StateSaL]):\n",
    "    # Create a distribution (a 6-sided die)\n",
    "    six_sided = Die(6)\n",
    "    snake = Choose([-10,-7,-5,-3])\n",
    "    ladder = Choose([2,3,5,7])\n",
    "    \n",
    "    \n",
    "    def transition(self, state: NonTerminal[StateSaL]) -> Categorical[State[StateSaL]]:\n",
    "        die_roll = self.six_sided.sample()\n",
    "        snake_s = self.snake.sample()\n",
    "        ladder_s = self.ladder.sample()\n",
    "        \n",
    "        return Categorical({\n",
    "            NonTerminal(StateSaL(state.state.position + die_roll)): 0.60,\n",
    "            NonTerminal(StateSaL(state.state.position + die_roll + snake_s)): 0.20,\n",
    "            NonTerminal(StateSaL(state.state.position + die_roll + ladder_s)): 0.20,\n",
    "        })"
   ]
  },
  {
   "cell_type": "markdown",
   "id": "3e5a61e9-f787-4f07-9307-eeef99062514",
   "metadata": {},
   "source": [
    "## Test"
   ]
  },
  {
   "cell_type": "code",
   "execution_count": 7,
   "id": "a0ca1786-e370-4237-9f81-86850ba3aa2b",
   "metadata": {},
   "outputs": [],
   "source": [
    "def run_game(time_steps: int, num_traces: int) -> np.ndarray:\n",
    "    mp = SnakesandLadders()\n",
    "    start_state_distribution = Constant(NonTerminal(StateSaL(position=0)))\n",
    "    \n",
    "    return np.vstack([\n",
    "        np.fromiter((s.state.position for s in itertools.islice(\n",
    "            mp.simulate(start_state_distribution),\n",
    "            time_steps + 1)), float) for _ in range(num_traces)])"
   ]
  },
  {
   "cell_type": "code",
   "execution_count": 8,
   "id": "307a69b0-66bf-4987-a702-b50befa7b591",
   "metadata": {},
   "outputs": [],
   "source": [
    "game_traces: np.ndarray = run_game(\n",
    "        time_steps=20,\n",
    "        num_traces=10\n",
    "    )"
   ]
  },
  {
   "cell_type": "code",
   "execution_count": 10,
   "id": "2666257a-5d38-4bf8-98f1-8d6338aa5d79",
   "metadata": {},
   "outputs": [
    {
     "data": {
      "text/plain": [
       "Text(0.5, 1.0, 'Location on Board')"
      ]
     },
     "execution_count": 10,
     "metadata": {},
     "output_type": "execute_result"
    },
    {
     "data": {
      "image/png": "[encoded data removed]",
      "text/plain": [
       "<Figure size 432x288 with 1 Axes>"
      ]
     },
     "metadata": {
      "needs_background": "light"
     },
     "output_type": "display_data"
    }
   ],
   "source": [
    "trace1 = game_traces[0]\n",
    "\n",
    "plt.plot(trace1)\n",
    "plt.ylabel(\"Board location\")\n",
    "plt.xlabel(\"Time step\")\n",
    "plt.title(\"Location on Board\")"
   ]
  },
  {
   "cell_type": "markdown",
   "id": "98fb7b40-dc11-493d-869f-2a47f9e9ae40",
   "metadata": {},
   "source": [
    "## Finite Markov Process"
   ]
  },
  {
   "cell_type": "code",
   "execution_count": 59,
   "id": "99f6a566-6692-4fdb-a216-6b5bce7ce320",
   "metadata": {},
   "outputs": [],
   "source": [
    "from dataclasses import dataclass\n",
    "from typing import Mapping, Dict\n",
    "from rl.distribution import Categorical, FiniteDistribution\n",
    "from rl.markov_process import FiniteMarkovProcess\n",
    "from scipy.stats import poisson\n",
    "\n",
    "\n",
    "@dataclass(frozen=True)\n",
    "class SaLState:\n",
    "    position: int\n",
    "\n",
    "    def get_position(self) -> int:\n",
    "        return self.position\n",
    "\n",
    "\n",
    "class SnakesandLaddersFinite(FiniteMarkovProcess[SaLState]):\n",
    "\n",
    "    def __init__(self, board_size: int,):\n",
    "        self.size: int = board_size\n",
    "    \n",
    "        # See above for Die distribution\n",
    "        self.distr = Die(6)\n",
    "        \n",
    "        super().__init__(self.get_transition_map())\n",
    "\n",
    "    def get_transition_map(self) -> Mapping[SaLState, FiniteDistribution[SaLState]]:\n",
    "        mymap: Dict[SaLState, Categorical[SaLState]] = {}\n",
    "        \n",
    "     \n",
    "    \n",
    "        for current_pos in range(self.size):\n",
    "            current_state = SaLState(current_pos)\n",
    "\n",
    "            state_probs_map: Mapping[SaLState, float] = {\n",
    "                SaLState(possible_pos): 1/6\n",
    "                for possible_pos in range(current_pos+1, current_pos + 6)\n",
    "            }\n",
    "            \n",
    "            mymap[SaLState(current_pos)] = Categorical(state_probs_map)\n",
    "        return mymap\n",
    "    \n",
    "\n",
    "\n",
    "# if __name__ == '__main__':\n",
    "#     si_mp = SnakesandLaddersFinite(board_size=100)\n",
    "\n",
    "#     print(\"Transition Map\")\n",
    "#     print(\"--------------\")\n",
    "#     print(si_mp)\n",
    "\n",
    "#     print(\"Stationary Distribution\")\n",
    "#     print(\"-----------------------\")\n",
    "#     si_mp.display_stationary_distribution()\n"
   ]
  },
  {
   "cell_type": "markdown",
   "id": "497c1a86-7c6d-4cf3-a002-b97866bb6106",
   "metadata": {},
   "source": [
    "## Transition Map"
   ]
  },
  {
   "cell_type": "code",
   "execution_count": null,
   "id": "dc2d3ea5-7b1b-469c-a777-baabd7242cf7",
   "metadata": {},
   "outputs": [],
   "source": [
    "print(\"Transition Map\")\n",
    "print(\"--------------\")\n",
    "print(Board1)"
   ]
  },
  {
   "cell_type": "markdown",
   "id": "488adc97-cd79-4e19-98f8-73a65638dc66",
   "metadata": {},
   "source": [
    "## Histogram"
   ]
  },
  {
   "cell_type": "code",
   "execution_count": 78,
   "id": "eb0db30e-0b58-490f-9b39-43d6efee2ca5",
   "metadata": {},
   "outputs": [],
   "source": [
    "Board1 = SnakesandLaddersFinite(board_size=100)\n",
    "start_dist = Constant([0])"
   ]
  },
  {
   "cell_type": "code",
   "execution_count": 108,
   "id": "655b099d-0f3e-4810-ba7e-f7d1e1bc9a63",
   "metadata": {},
   "outputs": [],
   "source": [
    "num_traces = 100\n",
    "max_time_steps = 200"
   ]
  },
  {
   "cell_type": "code",
   "execution_count": 117,
   "id": "8261aad4-dfae-4b85-a8b8-02e5284a6168",
   "metadata": {},
   "outputs": [],
   "source": [
    "trace = np.vstack([\n",
    "        np.fromiter((1 for s in itertools.islice(\n",
    "            Board1.traces(start_dist), max_time_steps\n",
    "        )), float) for _ in range(num_traces)])"
   ]
  },
  {
   "cell_type": "code",
   "execution_count": 118,
   "id": "1bfe863c-8766-407e-ab15-2a9c72065ea3",
   "metadata": {},
   "outputs": [],
   "source": [
    "from collections import Counter\n",
    "from operator import itemgetter\n",
    "def get_terminal_histogram(price_traces: np.ndarray\n",
    ") -> Tuple[Sequence[int], Sequence[int]]:\n",
    "    pairs = sorted(\n",
    "        list(Counter(price_traces[:, -1]).items()),\n",
    "        key=itemgetter(0)\n",
    "    )\n",
    "    return [x for x, _ in pairs], [y for _, y in pairs]"
   ]
  },
  {
   "cell_type": "code",
   "execution_count": 119,
   "id": "7cb5720f-3f84-47f4-a8cd-384f8ea7067b",
   "metadata": {},
   "outputs": [
    {
     "data": {
      "text/plain": [
       "([1.0], [100])"
      ]
     },
     "execution_count": 119,
     "metadata": {},
     "output_type": "execute_result"
    }
   ],
   "source": [
    "get_terminal_histogram(trace)"
   ]
  },
  {
   "cell_type": "code",
   "execution_count": null,
   "id": "0c1a1740-3680-4f69-a474-29a553b05080",
   "metadata": {},
   "outputs": [],
   "source": []
  },
  {
   "cell_type": "code",
   "execution_count": 52,
   "id": "222997f2-3bb1-4f97-b6bc-048db2d230be",
   "metadata": {},
   "outputs": [],
   "source": [
    "iterable = Board1.traces(start_dist)"
   ]
  },
  {
   "cell_type": "code",
   "execution_count": null,
   "id": "ea1cda8b-4e6e-4be0-9f6c-db8d12f71513",
   "metadata": {},
   "outputs": [],
   "source": [
    "for i in iterable:\n",
    "    print(iterable)\n",
    "    next(iterable, None)"
   ]
  },
  {
   "cell_type": "code",
   "execution_count": 120,
   "id": "ff1eeb4d-2ef0-4c43-86eb-e854e37ee0d6",
   "metadata": {},
   "outputs": [
    {
     "ename": "KeyboardInterrupt",
     "evalue": "",
     "output_type": "error",
     "traceback": [
      "\u001b[0;31m---------------------------------------------------------------------------\u001b[0m",
      "\u001b[0;31mKeyboardInterrupt\u001b[0m                         Traceback (most recent call last)",
      "\u001b[0;32m/var/folders/fj/qb_tch8j6sdg7th8gw7q9w000000gn/T/ipykernel_14948/3993481615.py\u001b[0m in \u001b[0;36m<module>\u001b[0;34m\u001b[0m\n\u001b[1;32m      3\u001b[0m     \u001b[0mcount\u001b[0m \u001b[0;34m=\u001b[0m \u001b[0;36m0\u001b[0m\u001b[0;34m\u001b[0m\u001b[0;34m\u001b[0m\u001b[0m\n\u001b[1;32m      4\u001b[0m     \u001b[0miterable\u001b[0m \u001b[0;34m=\u001b[0m \u001b[0mBoard1\u001b[0m\u001b[0;34m.\u001b[0m\u001b[0mtraces\u001b[0m\u001b[0;34m(\u001b[0m\u001b[0mstart_dist\u001b[0m\u001b[0;34m)\u001b[0m\u001b[0;34m\u001b[0m\u001b[0;34m\u001b[0m\u001b[0m\n\u001b[0;32m----> 5\u001b[0;31m     \u001b[0mcount\u001b[0m \u001b[0;34m=\u001b[0m \u001b[0msum\u001b[0m\u001b[0;34m(\u001b[0m\u001b[0;34m[\u001b[0m\u001b[0;36m1\u001b[0m \u001b[0;32mfor\u001b[0m \u001b[0melem\u001b[0m \u001b[0;32min\u001b[0m \u001b[0mitertools\u001b[0m\u001b[0;34m.\u001b[0m\u001b[0mislice\u001b[0m\u001b[0;34m(\u001b[0m\u001b[0miterable\u001b[0m\u001b[0;34m,\u001b[0m \u001b[0;32mNone\u001b[0m\u001b[0;34m)\u001b[0m\u001b[0;34m]\u001b[0m\u001b[0;34m)\u001b[0m\u001b[0;34m\u001b[0m\u001b[0;34m\u001b[0m\u001b[0m\n\u001b[0m",
      "\u001b[0;32m/var/folders/fj/qb_tch8j6sdg7th8gw7q9w000000gn/T/ipykernel_14948/3993481615.py\u001b[0m in \u001b[0;36m<listcomp>\u001b[0;34m(.0)\u001b[0m\n\u001b[1;32m      3\u001b[0m     \u001b[0mcount\u001b[0m \u001b[0;34m=\u001b[0m \u001b[0;36m0\u001b[0m\u001b[0;34m\u001b[0m\u001b[0;34m\u001b[0m\u001b[0m\n\u001b[1;32m      4\u001b[0m     \u001b[0miterable\u001b[0m \u001b[0;34m=\u001b[0m \u001b[0mBoard1\u001b[0m\u001b[0;34m.\u001b[0m\u001b[0mtraces\u001b[0m\u001b[0;34m(\u001b[0m\u001b[0mstart_dist\u001b[0m\u001b[0;34m)\u001b[0m\u001b[0;34m\u001b[0m\u001b[0;34m\u001b[0m\u001b[0m\n\u001b[0;32m----> 5\u001b[0;31m     \u001b[0mcount\u001b[0m \u001b[0;34m=\u001b[0m \u001b[0msum\u001b[0m\u001b[0;34m(\u001b[0m\u001b[0;34m[\u001b[0m\u001b[0;36m1\u001b[0m \u001b[0;32mfor\u001b[0m \u001b[0melem\u001b[0m \u001b[0;32min\u001b[0m \u001b[0mitertools\u001b[0m\u001b[0;34m.\u001b[0m\u001b[0mislice\u001b[0m\u001b[0;34m(\u001b[0m\u001b[0miterable\u001b[0m\u001b[0;34m,\u001b[0m \u001b[0;32mNone\u001b[0m\u001b[0;34m)\u001b[0m\u001b[0;34m]\u001b[0m\u001b[0;34m)\u001b[0m\u001b[0;34m\u001b[0m\u001b[0;34m\u001b[0m\u001b[0m\n\u001b[0m",
      "\u001b[0;31mKeyboardInterrupt\u001b[0m: "
     ]
    }
   ],
   "source": [
    "\n",
    "\n",
    "trials = 1\n",
    "for i in range(trials):\n",
    "    count = 0\n",
    "    iterable = Board1.traces(start_dist)\n",
    "    count = sum([1 for elem in itertools.islice(iterable, None)])"
   ]
  },
  {
   "cell_type": "code",
   "execution_count": null,
   "id": "42b9aceb-695e-4e02-b76e-65a891d25cb5",
   "metadata": {},
   "outputs": [],
   "source": [
    "from rl.chapter2.stock_price_simulations import\\\n",
    "    get_terminal_histogram"
   ]
  }
 ],
 "metadata": {
  "kernelspec": {
   "display_name": "Python 3 (ipykernel)",
   "language": "python",
   "name": "python3"
  },
  "language_info": {
   "codemirror_mode": {
    "name": "ipython",
    "version": 3
   },
   "file_extension": ".py",
   "mimetype": "text/x-python",
   "name": "python",
   "nbconvert_exporter": "python",
   "pygments_lexer": "ipython3",
   "version": "3.8.12"
  }
 },
 "nbformat": 4,
 "nbformat_minor": 5
}
