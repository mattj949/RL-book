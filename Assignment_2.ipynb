{
 "cells": [
  {
   "cell_type": "code",
   "execution_count": 1,
   "id": "ad9772e5-d199-4063-bb24-26cae079de69",
   "metadata": {},
   "outputs": [],
   "source": [
    "from __future__ import annotations\n",
    "from abc import ABC, abstractmethod\n",
    "from collections import defaultdict\n",
    "from dataclasses import dataclass\n",
    "import graphviz\n",
    "import itertools\n",
    "from matplotlib import pyplot as plt\n",
    "import numpy as np\n",
    "import random\n",
    "from pprint import pprint\n",
    "from typing import (Callable, Dict, Iterable, Generic, Sequence, Tuple,\n",
    "                    Mapping, TypeVar, Set)\n",
    "\n",
    "from rl.distribution import (Categorical, Distribution,\n",
    "                            Gaussian, Choose, Constant)\n",
    "from rl.markov_process import MarkovProcess, NonTerminal, State"
   ]
  },
  {
   "cell_type": "markdown",
   "id": "c3ec6901-9e7f-4a87-9f72-ed92d05e11d8",
   "metadata": {},
   "source": [
    "## State"
   ]
  },
  {
   "cell_type": "markdown",
   "id": "3197ff38-977d-42ff-b6bd-6d74b807480e",
   "metadata": {},
   "source": [
    "State Space: 100 locations on a 10x10 game board with these exceptions:\n",
    "\n",
    "Transition Probabilities: Equal probability of moving {1,2,3,4,5,6} steps ahead, with exceptions for certain states with a ladder or snake. "
   ]
  },
  {
   "cell_type": "code",
   "execution_count": 6,
   "id": "e9885264-c654-4127-a65a-c7e3e1de34d7",
   "metadata": {},
   "outputs": [],
   "source": [
    "@dataclass(frozen=True)\n",
    "class Die(Distribution[int]):\n",
    "    sides: int\n",
    "    def sample(self) -> int:\n",
    "        return random.randint(1, self.sides)\n",
    "    \n",
    "    def expectation(self) -> int:\n",
    "        return (int + 1) / 2\n",
    "\n",
    "@dataclass(frozen=True)\n",
    "class StateSaL:\n",
    "    position: int\n",
    "    \n",
    "@dataclass\n",
    "class SnakesandLadders(MarkovProcess[StateSaL]):\n",
    "    # Create a distribution (a 6-sided die)\n",
    "    six_sided = Die(6)\n",
    "    snake = Choose([-10,-7,-5,-3])\n",
    "    ladder = Choose([2,3,5,7])\n",
    "    \n",
    "    \n",
    "    def transition(self, state: NonTerminal[StateSaL]) -> Categorical[State[StateSaL]]:\n",
    "        die_roll = self.six_sided.sample()\n",
    "        snake_s = self.snake.sample()\n",
    "        ladder_s = self.ladder.sample()\n",
    "        \n",
    "        return Categorical({\n",
    "            NonTerminal(StateSaL(state.state.position + die_roll)): 0.60,\n",
    "            NonTerminal(StateSaL(state.state.position + die_roll + snake_s)): 0.20,\n",
    "            NonTerminal(StateSaL(state.state.position + die_roll + ladder_s)): 0.20,\n",
    "        })"
   ]
  },
  {
   "cell_type": "markdown",
   "id": "3e5a61e9-f787-4f07-9307-eeef99062514",
   "metadata": {},
   "source": [
    "## Test"
   ]
  },
  {
   "cell_type": "code",
   "execution_count": 7,
   "id": "a0ca1786-e370-4237-9f81-86850ba3aa2b",
   "metadata": {},
   "outputs": [],
   "source": [
    "def run_game(\n",
    "    time_steps: int,\n",
    "    num_traces: int\n",
    ") -> np.ndarray:\n",
    "    mp = SnakesandLadders()\n",
    "    start_state_distribution = Constant(\n",
    "        NonTerminal(StateSaL(position=0))\n",
    "    )\n",
    "    return np.vstack([\n",
    "        np.fromiter((s.state.position for s in itertools.islice(\n",
    "            mp.simulate(start_state_distribution),\n",
    "            time_steps + 1\n",
    "        )), float) for _ in range(num_traces)])"
   ]
  },
  {
   "cell_type": "code",
   "execution_count": 8,
   "id": "307a69b0-66bf-4987-a702-b50befa7b591",
   "metadata": {},
   "outputs": [],
   "source": [
    "game_traces: np.ndarray = run_game(\n",
    "        time_steps=20,\n",
    "        num_traces=10\n",
    "    )"
   ]
  },
  {
   "cell_type": "code",
   "execution_count": 9,
   "id": "2666257a-5d38-4bf8-98f1-8d6338aa5d79",
   "metadata": {},
   "outputs": [
    {
     "data": {
      "text/plain": [
       "Text(0.5, 1.0, 'Location on Board')"
      ]
     },
     "execution_count": 9,
     "metadata": {},
     "output_type": "execute_result"
    },
    {
     "data": {
      "image/png": "[encoded data removed]",
      "text/plain": [
       "<Figure size 432x288 with 1 Axes>"
      ]
     },
     "metadata": {
      "needs_background": "light"
     },
     "output_type": "display_data"
    }
   ],
   "source": [
    "trace1 = game_traces[0]\n",
    "\n",
    "plt.plot(trace1)\n",
    "plt.title(\"Location on Board\")"
   ]
  },
  {
   "cell_type": "markdown",
   "id": "98fb7b40-dc11-493d-869f-2a47f9e9ae40",
   "metadata": {},
   "source": [
    "## Finite Markov Process"
   ]
  },
  {
   "cell_type": "code",
   "execution_count": null,
   "id": "99f6a566-6692-4fdb-a216-6b5bce7ce320",
   "metadata": {},
   "outputs": [],
   "source": [
    "class FiniteMarkovProcess(MarkovProcess[S]):\n",
    "    '''A Markov Process with a finite state space.\n",
    "\n",
    "    Having a finite state space lets us use tabular methods to work\n",
    "    with the process (ie dynamic programming).\n",
    "\n",
    "    '''\n",
    "\n",
    "    non_terminal_states: Sequence[NonTerminal[S]]\n",
    "    transition_map: Transition[S]\n",
    "\n",
    "    def __init__(self, transition_map: Mapping[S, FiniteDistribution[S]]):\n",
    "        non_terminals: Set[S] = set(transition_map.keys())\n",
    "        self.transition_map = {\n",
    "            NonTerminal(s): Categorical(\n",
    "                {(NonTerminal(s1) if s1 in non_terminals else Terminal(s1)): p\n",
    "                 for s1, p in v.table().items()}\n",
    "            ) for s, v in transition_map.items()\n",
    "        }\n",
    "        self.non_terminal_states = list(self.transition_map.keys())\n",
    "\n",
    "    def __repr__(self) -> str:\n",
    "        display = \"\"\n",
    "\n",
    "        for s, d in self.transition_map.items():\n",
    "            display += f\"From State {s.state}:\\n\"\n",
    "            for s1, p in d:\n",
    "                opt = \"Terminal \" if isinstance(s1, Terminal) else \"\"\n",
    "                display += f\"  To {opt}State {s1.state} with Probability {p:.3f}\\n\"\n",
    "\n",
    "        return display\n",
    "\n",
    "    def get_transition_matrix(self) -> np.ndarray:\n",
    "        sz = len(self.non_terminal_states)\n",
    "        mat = np.zeros((sz, sz))\n",
    "\n",
    "        for i, s1 in enumerate(self.non_terminal_states):\n",
    "            for j, s2 in enumerate(self.non_terminal_states):\n",
    "                mat[i, j] = self.transition(s1).probability(s2)\n",
    "\n",
    "        return mat\n",
    "\n",
    "    def transition(self, state: NonTerminal[S])\\\n",
    "            -> FiniteDistribution[State[S]]:\n",
    "        return self.transition_map[state]\n",
    "\n",
    "    def get_stationary_distribution(self) -> FiniteDistribution[S]:\n",
    "        eig_vals, eig_vecs = np.linalg.eig(self.get_transition_matrix().T)\n",
    "        index_of_first_unit_eig_val = np.where(\n",
    "            np.abs(eig_vals - 1) < 1e-8)[0][0]\n",
    "        eig_vec_of_unit_eig_val = np.real(\n",
    "            eig_vecs[:, index_of_first_unit_eig_val])\n",
    "        return Categorical({\n",
    "            self.non_terminal_states[i].state: ev\n",
    "            for i, ev in enumerate(eig_vec_of_unit_eig_val /\n",
    "                                   sum(eig_vec_of_unit_eig_val))\n",
    "        })\n",
    "\n",
    "    def display_stationary_distribution(self):\n",
    "        pprint({\n",
    "            s: round(p, 3)\n",
    "            for s, p in self.get_stationary_distribution()\n",
    "        })\n",
    "\n",
    "    def generate_image(self) -> graphviz.Digraph:\n",
    "        d = graphviz.Digraph()\n",
    "\n",
    "        for s in self.transition_map.keys():\n",
    "            d.node(str(s))\n",
    "\n",
    "        for s, v in self.transition_map.items():\n",
    "            for s1, p in v:\n",
    "                d.edge(str(s), str(s1), label=str(p))\n",
    "\n",
    "        return d\n",
    "\n",
    "\n",
    "# Reward processes\n",
    "@dataclass(frozen=True)\n",
    "class TransitionStep(Generic[S]):\n",
    "    state: NonTerminal[S]\n",
    "    next_state: State[S]\n",
    "    reward: float\n",
    "\n",
    "    def add_return(self, γ: float, return_: float) -> ReturnStep[S]:\n",
    "        '''Given a γ and the return from 'next_state', this annotates the\n",
    "        transition with a return for 'state'.\n",
    "\n",
    "        '''\n",
    "        return ReturnStep(\n",
    "            self.state,\n",
    "            self.next_state,\n",
    "            self.reward,\n",
    "            return_=self.reward + γ * return_\n",
    "        )\n",
    "\n",
    "\n",
    "@dataclass(frozen=True)\n",
    "class ReturnStep(TransitionStep[S]):\n",
    "    return_: float"
   ]
  }
 ],
 "metadata": {
  "kernelspec": {
   "display_name": "Python 3 (ipykernel)",
   "language": "python",
   "name": "python3"
  },
  "language_info": {
   "codemirror_mode": {
    "name": "ipython",
    "version": 3
   },
   "file_extension": ".py",
   "mimetype": "text/x-python",
   "name": "python",
   "nbconvert_exporter": "python",
   "pygments_lexer": "ipython3",
   "version": "3.8.12"
  }
 },
 "nbformat": 4,
 "nbformat_minor": 5
}
