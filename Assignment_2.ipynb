{
 "cells": [
  {
   "cell_type": "code",
   "execution_count": 1,
   "id": "ad9772e5-d199-4063-bb24-26cae079de69",
   "metadata": {},
   "outputs": [],
   "source": [
    "from __future__ import annotations\n",
    "from abc import ABC, abstractmethod\n",
    "from collections import defaultdict\n",
    "from dataclasses import dataclass\n",
    "import graphviz\n",
    "import itertools\n",
    "from matplotlib import pyplot as plt\n",
    "import numpy as np\n",
    "import random\n",
    "from pprint import pprint\n",
    "from typing import (Callable, Dict, Iterable, Generic, Sequence, Tuple,\n",
    "                    Mapping, TypeVar, Set)\n",
    "\n",
    "from rl.distribution import (Categorical, Distribution,\n",
    "                            Gaussian, Choose, Constant, FiniteDistribution)\n",
    "from rl.markov_process import MarkovProcess, FiniteMarkovProcess, NonTerminal, Terminal, State\n",
    "\n",
    "from typing import Mapping, Dict"
   ]
  },
  {
   "cell_type": "markdown",
   "id": "c3ec6901-9e7f-4a87-9f72-ed92d05e11d8",
   "metadata": {},
   "source": [
    "## State"
   ]
  },
  {
   "cell_type": "markdown",
   "id": "3197ff38-977d-42ff-b6bd-6d74b807480e",
   "metadata": {},
   "source": [
    "State Space: 100 locations on a 10x10 game board.\n",
    "\n",
    "Transition Probabilities: Equal probability of moving [1,2,3,4,5,6] steps ahead, combined with small probability of taking an additional [3,5,7,10] steps backwards or [2,3,5,7] steps forward. "
   ]
  },
  {
   "cell_type": "code",
   "execution_count": 2,
   "id": "e9885264-c654-4127-a65a-c7e3e1de34d7",
   "metadata": {},
   "outputs": [],
   "source": [
    "@dataclass(frozen=True)\n",
    "class Die(Distribution[int]):\n",
    "    sides: int\n",
    "    def sample(self) -> int:\n",
    "        return random.randint(1, self.sides)\n",
    "    \n",
    "    def expectation(self) -> int:\n",
    "        return (int + 1) / 2\n",
    "\n",
    "@dataclass(frozen=True)\n",
    "class StateSaL:\n",
    "    position: int\n",
    "    \n",
    "@dataclass\n",
    "class SnakesandLadders(MarkovProcess[StateSaL]):\n",
    "    # Create a distribution (a 6-sided die)\n",
    "    six_sided = Die(6)\n",
    "    snake = Choose([-10,-7,-5,-3])\n",
    "    ladder = Choose([2,3,5,7])\n",
    "    \n",
    "    \n",
    "    def transition(self, state: NonTerminal[StateSaL]) -> Categorical[State[StateSaL]]:\n",
    "        die_roll = self.six_sided.sample()\n",
    "        snake_s = self.snake.sample()\n",
    "        ladder_s = self.ladder.sample()\n",
    "        \n",
    "        return Categorical({\n",
    "            NonTerminal(StateSaL(state.state.position + die_roll)): 0.60,\n",
    "            NonTerminal(StateSaL(state.state.position + die_roll + snake_s)): 0.20,\n",
    "            NonTerminal(StateSaL(state.state.position + die_roll + ladder_s)): 0.20,\n",
    "        })"
   ]
  },
  {
   "cell_type": "markdown",
   "id": "3e5a61e9-f787-4f07-9307-eeef99062514",
   "metadata": {},
   "source": [
    "## Test"
   ]
  },
  {
   "cell_type": "code",
   "execution_count": 3,
   "id": "a0ca1786-e370-4237-9f81-86850ba3aa2b",
   "metadata": {},
   "outputs": [],
   "source": [
    "def run_game(time_steps: int, num_traces: int) -> np.ndarray:\n",
    "    mp = SnakesandLadders()\n",
    "    start_state_distribution = Constant(NonTerminal(StateSaL(position=0)))\n",
    "    \n",
    "    return np.vstack([\n",
    "        np.fromiter((s.state.position for s in itertools.islice(\n",
    "            mp.simulate(start_state_distribution),\n",
    "            time_steps + 1)), float) for _ in range(num_traces)])"
   ]
  },
  {
   "cell_type": "code",
   "execution_count": 4,
   "id": "307a69b0-66bf-4987-a702-b50befa7b591",
   "metadata": {},
   "outputs": [],
   "source": [
    "game_traces: np.ndarray = run_game(\n",
    "        time_steps=20,\n",
    "        num_traces=10\n",
    "    )"
   ]
  },
  {
   "cell_type": "code",
   "execution_count": 5,
   "id": "2666257a-5d38-4bf8-98f1-8d6338aa5d79",
   "metadata": {},
   "outputs": [
    {
     "data": {
      "text/plain": [
       "Text(0.5, 1.0, 'Location on Board')"
      ]
     },
     "execution_count": 5,
     "metadata": {},
     "output_type": "execute_result"
    },
    {
     "data": {
      "image/png": "[encoded data removed]",
      "text/plain": [
       "<Figure size 432x288 with 1 Axes>"
      ]
     },
     "metadata": {
      "needs_background": "light"
     },
     "output_type": "display_data"
    }
   ],
   "source": [
    "trace1 = game_traces[0]\n",
    "\n",
    "plt.plot(trace1)\n",
    "plt.ylabel(\"Board location\")\n",
    "plt.xlabel(\"Time step\")\n",
    "plt.title(\"Location on Board\")"
   ]
  },
  {
   "cell_type": "markdown",
   "id": "98fb7b40-dc11-493d-869f-2a47f9e9ae40",
   "metadata": {},
   "source": [
    "## Finite Markov Process"
   ]
  },
  {
   "cell_type": "code",
   "execution_count": 6,
   "id": "99f6a566-6692-4fdb-a216-6b5bce7ce320",
   "metadata": {},
   "outputs": [],
   "source": [
    "\n",
    "@dataclass(frozen=True)\n",
    "class SaLState:\n",
    "    position: int\n",
    "\n",
    "    def get_position(self) -> int:\n",
    "        return self.position\n",
    "\n",
    "\n",
    "class SnakesandLaddersFinite(FiniteMarkovProcess[SaLState]):\n",
    "\n",
    "    def __init__(self, board_size: int,):\n",
    "        self.size: int = board_size\n",
    "    \n",
    "        # See above for Die distribution\n",
    "        self.distr = Die(6)\n",
    "        \n",
    "        super().__init__(self.get_transition_map())\n",
    "\n",
    "    def get_transition_map(self) -> Mapping[SaLState, FiniteDistribution[SaLState]]:\n",
    "        mymap: Dict[SaLState, Categorical[SaLState]] = {}\n",
    "        \n",
    "     \n",
    "    \n",
    "        for current_pos in range(self.size):\n",
    "            current_state = SaLState(current_pos)\n",
    "            \n",
    "            # Probabilities just from the die rolls\n",
    "            die_roll_map: Mapping[SaLState, float] = {\n",
    "                SaLState(possible_pos): (1/6) * 0.8\n",
    "                for possible_pos in range(current_pos+1, current_pos + 6)\n",
    "                \n",
    "            }\n",
    "            \n",
    "            # Probabilities from the snakes and ladders\n",
    "            snake_and_ladder_map: Mapping[SaLState, float] = {\n",
    "                SaLState(current_pos + offset): (1/5) * 0.2\n",
    "                for offset in [-7,-5,-3,7,9] if (current_pos + offset >=0 and current_pos + offset <= self.size)\n",
    "            }\n",
    "            \n",
    "            die_roll_map.update(snake_and_ladder_map)\n",
    "            \n",
    "            mymap[SaLState(current_pos)] = Categorical(die_roll_map)\n",
    "        return mymap\n",
    "    \n",
    "\n",
    "\n",
    "# if __name__ == '__main__':\n",
    "#     si_mp = SnakesandLaddersFinite(board_size=100)\n",
    "\n",
    "#     print(\"Transition Map\")\n",
    "#     print(\"--------------\")\n",
    "#     print(si_mp)\n",
    "\n",
    "#     print(\"Stationary Distribution\")\n",
    "#     print(\"-----------------------\")\n",
    "#     si_mp.display_stationary_distribution()\n"
   ]
  },
  {
   "cell_type": "markdown",
   "id": "497c1a86-7c6d-4cf3-a002-b97866bb6106",
   "metadata": {},
   "source": [
    "## Transition Map"
   ]
  },
  {
   "cell_type": "code",
   "execution_count": 7,
   "id": "440a2156-f785-4639-8d4a-5a67d8a3212c",
   "metadata": {},
   "outputs": [],
   "source": [
    "Board1 = SnakesandLaddersFinite(board_size=100)"
   ]
  },
  {
   "cell_type": "code",
   "execution_count": null,
   "id": "dc2d3ea5-7b1b-469c-a777-baabd7242cf7",
   "metadata": {},
   "outputs": [],
   "source": [
    "print(\"Transition Map\")\n",
    "print(\"--------------\")\n",
    "print(Board1)"
   ]
  },
  {
   "cell_type": "markdown",
   "id": "488adc97-cd79-4e19-98f8-73a65638dc66",
   "metadata": {},
   "source": [
    "## Histogram"
   ]
  },
  {
   "cell_type": "code",
   "execution_count": 9,
   "id": "eb0db30e-0b58-490f-9b39-43d6efee2ca5",
   "metadata": {},
   "outputs": [],
   "source": [
    "keys = list(Board1.transition_map.keys())\n",
    "start_dist = Categorical({keys[0]:1})"
   ]
  },
  {
   "cell_type": "code",
   "execution_count": 10,
   "id": "d025aa3c-e9f4-4a59-892c-19c95aa15c04",
   "metadata": {},
   "outputs": [],
   "source": [
    "traces = itertools.islice(Board1.traces(start_dist), 100000)\n",
    "\n",
    "steps_per_trace = []\n",
    "for trace in traces:\n",
    "    steps = len(list(trace))\n",
    "    steps_per_trace += [steps]"
   ]
  },
  {
   "cell_type": "code",
   "execution_count": 12,
   "id": "f5f60097-2fc4-4d77-8ae0-0257013b6f82",
   "metadata": {},
   "outputs": [
    {
     "data": {
      "image/png": "[encoded data removed]",
      "text/plain": [
       "<Figure size 432x288 with 1 Axes>"
      ]
     },
     "metadata": {
      "needs_background": "light"
     },
     "output_type": "display_data"
    }
   ],
   "source": [
    "plt.hist(steps_per_trace, bins=30)\n",
    "plt.title(\"Histogram: die rolls/steps until Terminal\")\n",
    "plt.ylabel(\"Frequency\")\n",
    "plt.xlabel(\"Rolls\")\n",
    "plt.show()"
   ]
  },
  {
   "cell_type": "markdown",
   "id": "db11d2b6-8719-4446-923c-f023bcdee924",
   "metadata": {},
   "source": [
    "## Frog Puzzle"
   ]
  },
  {
   "cell_type": "code",
   "execution_count": 17,
   "id": "3bcd1584-d47d-4e8c-84b9-48566c3a00be",
   "metadata": {},
   "outputs": [],
   "source": [
    "@dataclass(frozen=True)\n",
    "class FrogState:\n",
    "    position: int\n",
    "\n",
    "class FrogPuzzle(FiniteMarkovProcess[FrogState]):\n",
    "\n",
    "    def __init__(self, end: int,):\n",
    "        self.end: int = end\n",
    "    \n",
    "        super().__init__(self.get_transition_map())\n",
    "\n",
    "    def get_transition_map(self) -> Mapping[FrogState, FiniteDistribution[FrogState]]:\n",
    "        mymap: Dict[FrogState, Categorical[FrogState]] = {}\n",
    "        \n",
    "        for position in range(self.end):\n",
    "            \n",
    "            # Possibilities:\n",
    "            transition_map: Mapping[FrogState, float] = {\n",
    "                FrogState(possible_pos): 1 / (self.end+1-position)\n",
    "                for possible_pos in range(position+1, self.end+1)\n",
    "                \n",
    "            }\n",
    "            mymap[FrogState(position)] = Categorical(transition_map)\n",
    "        return mymap"
   ]
  },
  {
   "cell_type": "code",
   "execution_count": 19,
   "id": "e0e0f80d-ad65-4bec-9358-c5e374de6bab",
   "metadata": {},
   "outputs": [],
   "source": [
    "FrogGame = FrogPuzzle(end=10)"
   ]
  },
  {
   "cell_type": "code",
   "execution_count": 23,
   "id": "66ba9e96-3a79-40ff-a692-384319e8dfd9",
   "metadata": {},
   "outputs": [
    {
     "name": "stdout",
     "output_type": "stream",
     "text": [
      "Expectation: 3.9265199999995333\n"
     ]
    },
    {
     "data": {
      "image/png": "[encoded data removed]",
      "text/plain": [
       "<Figure size 432x288 with 1 Axes>"
      ]
     },
     "metadata": {
      "needs_background": "light"
     },
     "output_type": "display_data"
    }
   ],
   "source": [
    "keys = list(FrogGame.transition_map.keys())\n",
    "start_dist = Categorical({keys[0]:1})\n",
    "\n",
    "num_traces = 100000\n",
    "traces = itertools.islice(FrogGame.traces(start_dist), num_traces)\n",
    "\n",
    "steps_per_trace = []\n",
    "expectation = 0\n",
    "for trace in traces:\n",
    "    steps = len(list(trace))\n",
    "    steps_per_trace += [steps]\n",
    "    expectation += (steps * 1/num_traces)\n",
    "    \n",
    "print(\"Expectation: \" + str(expectation))\n",
    "    \n",
    "plt.hist(steps_per_trace, bins=30)\n",
    "plt.title(\"Histogram for 10 spots: time steps until Terminal\")\n",
    "plt.ylabel(\"Frequency\")\n",
    "plt.xlabel(\"Rolls\")\n",
    "plt.show()"
   ]
  },
  {
   "cell_type": "code",
   "execution_count": 25,
   "id": "8cab063f-5098-4dd7-8510-7241c24793a5",
   "metadata": {},
   "outputs": [
    {
     "name": "stdout",
     "output_type": "stream",
     "text": [
      "Expectation for 10 spots: 3.943900000000187\n",
      "Expectation for 11 spots: 4.024200000000186\n",
      "Expectation for 12 spots: 4.11660000000018\n",
      "Expectation for 13 spots: 4.1924000000002035\n",
      "Expectation for 14 spots: 4.237500000000197\n",
      "Expectation for 15 spots: 4.3371000000001745\n",
      "Expectation for 16 spots: 4.370700000000193\n",
      "Expectation for 17 spots: 4.437200000000183\n",
      "Expectation for 18 spots: 4.507800000000185\n",
      "Expectation for 19 spots: 4.549900000000182\n",
      "Expectation for 20 spots: 4.588200000000185\n",
      "Expectation for 21 spots: 4.6444000000001795\n",
      "Expectation for 22 spots: 4.690300000000178\n",
      "Expectation for 23 spots: 4.7269000000001835\n",
      "Expectation for 24 spots: 4.786100000000173\n",
      "Expectation for 25 spots: 4.799600000000198\n",
      "Expectation for 26 spots: 4.8724000000001935\n",
      "Expectation for 27 spots: 4.893100000000183\n",
      "Expectation for 28 spots: 4.9199000000001964\n",
      "Expectation for 29 spots: 4.950000000000182\n"
     ]
    }
   ],
   "source": [
    "\n",
    "num_spots = []\n",
    "expectation_for_given_num_spots = []\n",
    "for i in range(10,30):\n",
    "    FrogGame = FrogPuzzle(end=i)\n",
    "    \n",
    "    keys = list(FrogGame.transition_map.keys())\n",
    "    start_dist = Categorical({keys[0]:1})\n",
    "\n",
    "    num_traces = 10000\n",
    "    traces = itertools.islice(FrogGame.traces(start_dist), num_traces)\n",
    "\n",
    "    steps_per_trace = []\n",
    "    expectation = 0\n",
    "    for trace in traces:\n",
    "        steps = len(list(trace))\n",
    "        steps_per_trace += [steps]\n",
    "        expectation += (steps * 1/num_traces)\n",
    "\n",
    "    print(\"Expectation for \" + str(i) + \" spots: \" + str(expectation))\n",
    "    \n",
    "    num_spots += [i]\n",
    "    expectation_for_given_num_spots += [expectation]"
   ]
  },
  {
   "cell_type": "code",
   "execution_count": 29,
   "id": "79a4d395-6a8a-442f-9ed0-2ab4e299f37d",
   "metadata": {},
   "outputs": [
    {
     "data": {
      "image/png": "[encoded data removed]",
      "text/plain": [
       "<Figure size 432x288 with 1 Axes>"
      ]
     },
     "metadata": {
      "needs_background": "light"
     },
     "output_type": "display_data"
    }
   ],
   "source": [
    "plt.plot(num_spots, expectation_for_given_num_spots)\n",
    "plt.xlabel(\"Lilly pads\")\n",
    "plt.ylabel(\"Expectation of num time steps until end\")\n",
    "plt.title(\"E[Time Steps] vs. num lilly pads\")\n",
    "plt.show()"
   ]
  },
  {
   "cell_type": "code",
   "execution_count": null,
   "id": "91414d60-623e-4de9-b547-34fc56475917",
   "metadata": {},
   "outputs": [],
   "source": []
  }
 ],
 "metadata": {
  "kernelspec": {
   "display_name": "Python 3 (ipykernel)",
   "language": "python",
   "name": "python3"
  },
  "language_info": {
   "codemirror_mode": {
    "name": "ipython",
    "version": 3
   },
   "file_extension": ".py",
   "mimetype": "text/x-python",
   "name": "python",
   "nbconvert_exporter": "python",
   "pygments_lexer": "ipython3",
   "version": "3.8.12"
  }
 },
 "nbformat": 4,
 "nbformat_minor": 5
}
