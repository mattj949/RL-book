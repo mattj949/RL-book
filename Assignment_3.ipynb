{
 "cells": [
  {
   "cell_type": "markdown",
   "id": "3a3ba470-8f08-4285-b67a-725725371a5e",
   "metadata": {},
   "source": [
    "# 1 \n",
    "The 4 Bellman Policy Equations\n",
    "\n",
    "For a deterministic policy, MDP --> MRP ?\n",
    "\n",
    "\n",
    "We choose action $a$ with probability 1: $a=\\pi(s)$; this action only depends on the state $s$, so I drop it from an input to $Q$ and $V$. We basically end up with the MRP equations\n",
    "\n",
    "$V^{\\pi_D}(s) = Q^{\\pi_D}(s)$ \n",
    "\n",
    "$Q^{\\pi_D}(s) = R(s) + \\gamma  \\sum_{s' \\in N} P(s,s')  V^{\\pi_D}(s')$\n",
    "\n",
    "$V^{\\pi_D}(s) = R^\\pi(s) + \\gamma \\sum_{s' \\in N} P(s,s')  V^{\\pi_D}(s')$\n",
    "\n",
    "$Q^{\\pi_D}(s) = R(s) + \\gamma  \\sum_{s' \\in N} P(s,s')  Q^{\\pi_D}(s')$"
   ]
  },
  {
   "cell_type": "markdown",
   "id": "fb5a58ee-f1de-4b7a-88de-b4c7ccd93419",
   "metadata": {},
   "source": [
    "# 2\n",
    "\n",
    "$V_*(s) = max_{\\pi \\in \\prod} V^\\pi(s) = max_a Q_*(s,a)$\n",
    "\n",
    "$R_s(a) = a(1-a) + (1-a)(1+a) = a - a^2 + 1 - a^2 = -2a^2 + a + 1$\n",
    "\n",
    "$\\frac{\\partial R}{\\partial a} = -4a + 1$, equals $0$ when $a=0.25$\n",
    "\n",
    "$\\max R_s(a) = R_s(0.25) = 1.125$\n"
   ]
  },
  {
   "cell_type": "markdown",
   "id": "fbd6a210-af6a-440e-8bc5-d8661901b0c5",
   "metadata": {},
   "source": [
    "Discount across all future states. We will choose $a=0.25$ at every step, which gives us an expected reward of 1.125 each time. Hence, we need to discount 1.125 indefinitely into the future."
   ]
  },
  {
   "cell_type": "markdown",
   "id": "1e6dd9f7-7031-4562-adc0-d8751a90e7bf",
   "metadata": {},
   "source": [
    "Terminal value = $\\frac{1.125}{0.50} = 2.25$"
   ]
  },
  {
   "cell_type": "markdown",
   "id": "86c5ff3c-726a-4581-b230-5acdf3b8fe27",
   "metadata": {},
   "source": [
    "Optimal Deterministic Policy: $\\pi^*(s) = 0.25$"
   ]
  },
  {
   "cell_type": "markdown",
   "id": "d0a81f94-ec2e-44e7-8cd1-76b5b6f44882",
   "metadata": {},
   "source": [
    "# 3"
   ]
  },
  {
   "cell_type": "code",
   "execution_count": null,
   "id": "8bd3351e-dd47-44a9-8d2e-f8c11d78c5b8",
   "metadata": {},
   "outputs": [],
   "source": []
  }
 ],
 "metadata": {
  "kernelspec": {
   "display_name": "Python 3 (ipykernel)",
   "language": "python",
   "name": "python3"
  },
  "language_info": {
   "codemirror_mode": {
    "name": "ipython",
    "version": 3
   },
   "file_extension": ".py",
   "mimetype": "text/x-python",
   "name": "python",
   "nbconvert_exporter": "python",
   "pygments_lexer": "ipython3",
   "version": "3.8.12"
  }
 },
 "nbformat": 4,
 "nbformat_minor": 5
}
