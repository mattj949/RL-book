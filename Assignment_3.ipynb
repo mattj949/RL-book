{
 "cells": [
  {
   "cell_type": "markdown",
   "id": "3a3ba470-8f08-4285-b67a-725725371a5e",
   "metadata": {},
   "source": [
    "# 1 \n",
    "The 4 Bellman Policy Equations\n",
    "\n",
    "For a deterministic policy, MDP --> MRP\n",
    "\n",
    "\n",
    "We choose action $a$ with probability 1: $a=\\pi(s)$; this action only depends on the state $s$, so I drop it from an input to $Q$ and $V$. We basically end up with the MRP equations\n",
    "\n",
    "\n",
    "\n",
    "$V^{\\pi_D}(s) = Q^{\\pi_D}(s)$ \n",
    "\n",
    "$Q^{\\pi_D}(s) = R(s) + \\gamma  \\sum_{s' \\in N} P(s,s')  V^{\\pi_D}(s')$\n",
    "\n",
    "$V^{\\pi_D}(s) = R^\\pi(s) + \\gamma \\sum_{s' \\in N} P(s,s')  V^{\\pi_D}(s')$\n",
    "\n",
    "$Q^{\\pi_D}(s) = R(s) + \\gamma  \\sum_{s' \\in N} P(s,s')  Q^{\\pi_D}(s')$"
   ]
  },
  {
   "cell_type": "markdown",
   "id": "fb5a58ee-f1de-4b7a-88de-b4c7ccd93419",
   "metadata": {},
   "source": [
    "# 2\n",
    "\n",
    "$V_*(s) = max_{\\pi \\in \\prod} V^\\pi(s) = max_a Q_*(s,a) = max_a [R(s,a) + \\gamma \\sum_{s' \\in N} P(s,\\pi^D(s),s')V^*(s')]$\n",
    "\n",
    "We recurvisely want the maximum reward at each step. The return function $G$ is the discounted sum of future rewards.\n",
    "\n",
    "$R(s,a) = a(1-a) + (1-a)(1+a) = a - a^2 + 1 - a^2 = -2a^2 + a + 1$\n",
    "\n",
    "$\\frac{\\partial R}{\\partial a} = -4a + 1$, equals $0$ when $a=0.25$\n",
    "\n",
    "$\\max R_s(a) = R_s(0.25) = 1.125$\n",
    "\n",
    "Independent of the state, taking action $a=0.25$ will always yield the maximum return. So we will always choose this action, and we will always get this return. Hence, it is easy for us to calculate the value function since:\n",
    "\n",
    "$G_t = \\sum_{i=t+1}^{\\infty} \\gamma^{i-t-1}*R_i$\n",
    "\n",
    "and\n",
    "\n",
    "$V^\\pi(s) = \\mathbb{E}_{\\pi, P_R}[G_t|S_t=s] = G_t = \\frac{1.125}{0.50} = 2.25$\n",
    "\n",
    "\n",
    "\n"
   ]
  },
  {
   "cell_type": "markdown",
   "id": "fbd6a210-af6a-440e-8bc5-d8661901b0c5",
   "metadata": {},
   "source": [
    "In other words: we discount across all future states. We will choose $a=0.25$ at every step, which gives us an expected reward of 1.125 each time. Hence, we need to discount 1.125 indefinitely into the future."
   ]
  },
  {
   "cell_type": "markdown",
   "id": "1e6dd9f7-7031-4562-adc0-d8751a90e7bf",
   "metadata": {},
   "source": [
    "### Optimal Value Function $V^*(s) = 2.25$"
   ]
  },
  {
   "cell_type": "markdown",
   "id": "86c5ff3c-726a-4581-b230-5acdf3b8fe27",
   "metadata": {},
   "source": [
    "### Optimal Deterministic Policy: $\\pi^*(s) = 0.25$"
   ]
  },
  {
   "cell_type": "markdown",
   "id": "d0a81f94-ec2e-44e7-8cd1-76b5b6f44882",
   "metadata": {},
   "source": [
    "# 3"
   ]
  },
  {
   "cell_type": "markdown",
   "id": "7126d55f-238f-45d8-87aa-2392772721e0",
   "metadata": {},
   "source": [
    "State space = $\\{0, 1, 2, \\dots, n\\}$\n",
    "\n",
    "Action space = {Croak A, Croak B}\n",
    "\n",
    "$P(i, A, i-1) = \\frac{i}{n}$\n",
    "\n",
    "$P(i, A, i+1) = \\frac{n-1}{n}$\n",
    "\n",
    "$P(i, B, i') = \\frac{1}{n}$ for $i' \\neq i$ in $\\{0, 1, 2, \\dots, n\\}$\n",
    "\n",
    "$R(0) = -100$\n",
    "\n",
    "$R(n) = 10$\n",
    "\n"
   ]
  },
  {
   "cell_type": "code",
   "execution_count": 1,
   "id": "37de69ac-e8a8-4e8c-b1fc-c7de3fc9d7d8",
   "metadata": {},
   "outputs": [],
   "source": [
    "from rl.markov_decision_process import *"
   ]
  },
  {
   "cell_type": "code",
   "execution_count": 2,
   "id": "e6d818a8-bdbe-4aec-97af-fa71060c072d",
   "metadata": {},
   "outputs": [],
   "source": [
    "# Create Frog State (only attribute is an int -- the lilypad)\n",
    "\n",
    "@dataclass(frozen=True)\n",
    "class FrogState:\n",
    "    position: int"
   ]
  },
  {
   "cell_type": "markdown",
   "id": "0c2d4cd8-c1a1-454d-9600-d86268f3eb91",
   "metadata": {},
   "source": [
    "Let croak A = 0, croak B = 1"
   ]
  },
  {
   "cell_type": "code",
   "execution_count": 3,
   "id": "de296e5d-5cae-406e-8087-22b600d89d95",
   "metadata": {},
   "outputs": [],
   "source": [
    "from itertools import combinations, permutations\n",
    "from rl.policy import FiniteDeterministicPolicy\n",
    "from rl.distribution import Constant\n",
    "\n",
    "\n",
    "def create_policies(n : int) -> list:\n",
    "    # Create a list with all possible permutations of croaks\n",
    "    # for n-2 non-terminal states where the frog makes an action.\n",
    "    all_possible_permutations_of_croaks = []\n",
    "    for num_A in range(0, n-1):\n",
    "        list_with_croaks = [0 for i in range(num_A)]\n",
    "        list_with_croaks += [1 for i in range(n-1 - num_A)]\n",
    "\n",
    "        perm = list(permutations(list_with_croaks))\n",
    "\n",
    "        # initialize a null list\n",
    "        unique_arrangements = []\n",
    "\n",
    "        # traverse for all elements\n",
    "        for x in perm:\n",
    "            # check if exists in unique_list or not\n",
    "            if x not in unique_arrangements:\n",
    "                unique_arrangements.append(x)\n",
    "\n",
    "        for tup in unique_arrangements:\n",
    "            all_possible_permutations_of_croaks.append(tup)\n",
    "\n",
    "    # List of all 2^(n-1) policies\n",
    "    policies = []\n",
    "    for permutation_of_croaks in all_possible_permutations_of_croaks:\n",
    "        ### What's the right policy to use???\n",
    "        ### What's the notation for a map??\n",
    "        #Check permutation_of_craosk\n",
    "        # Should just be a single list of length n\n",
    "        # NOT A LIST OF LISTS!!!!\n",
    "        # Make sure to revert markov_decision_process.py\n",
    "        fdp : FinitePolicy[FrogState, int] = \\\n",
    "        FinitePolicy(\n",
    "            {FrogState(i) : Constant(permutation_of_croaks[i-1])\n",
    "             for i in range(1, n)}\n",
    "        )\n",
    "        policies.append(fdp)\n",
    "        \n",
    "    return policies"
   ]
  },
  {
   "cell_type": "code",
   "execution_count": 4,
   "id": "59c92318-9a0f-453e-a017-613d26c254e9",
   "metadata": {},
   "outputs": [],
   "source": [
    "# State to action, then from action to (next_state, reward)\n",
    "FrogMapping = Mapping[\n",
    "    FrogState,\n",
    "    Mapping[int, Categorical[Tuple[FrogState, int]]]]"
   ]
  },
  {
   "cell_type": "code",
   "execution_count": 5,
   "id": "a528d372-ac21-4110-a7a9-5985a8012584",
   "metadata": {},
   "outputs": [],
   "source": [
    "class FrogFMDP(FiniteMarkovDecisionProcess[FrogState,int]):\n",
    "    def __init__(self, num_states : int):\n",
    "        self.n = num_states\n",
    "        super().__init__(self.get_action_transition_reward_map())\n",
    "\n",
    "    def get_action_transition_reward_map(self) -> FrogMapping:\n",
    "        d: Dict[FrogState, \n",
    "                Dict[int, Categorical[Tuple[FrogState, int]]]] = {}\n",
    "\n",
    "        for i in range(1, n):\n",
    "            state: FrogState = FrogState(i)\n",
    "            \n",
    "            d1: Dict[int, Categorical[Tuple[FrogState, int]]] = {}\n",
    "            \n",
    "            # croak = 0\n",
    "            # Mapping of next_state and rewards, and probabilities\n",
    "            # of getting those next_state and reward\n",
    "            sr_probs_dict0: Dict[Tuple[FrogState, int], float] =\\\n",
    "            {(FrogState(i-1), 0) : i / self.n, \n",
    "             (FrogState(i+1), 0): (self.n-i)/self.n,\n",
    "            }\n",
    "            if i == 1:\n",
    "                # Get rid of previos key for 0 state\n",
    "                sr_probs_dict0.pop((FrogState(0), 0))\n",
    "                # Add terminal state\n",
    "                sr_probs_dict0[(FrogState(0), 0)] = i/self.n\n",
    "            elif i == n-1:\n",
    "                # Get rid of previous key for n state\n",
    "                sr_probs_dict0.pop((FrogState(n), 0))\n",
    "                # Add terminal (good) state\n",
    "                sr_probs_dict0[(FrogState(n), 1)] = (self.n-i)/self.n\n",
    "                \n",
    "            d1[0] = Categorical(sr_probs_dict0)\n",
    "            \n",
    "            \n",
    "            \n",
    "            # croak = 1\n",
    "            sr_probs_dict1: Dict[Tuple[FrogState, int], float] =\\\n",
    "            {(FrogState(i_next), 0) : 1 / self.n \n",
    "             for i_next in list(range(i)) + list(range(i+1,self.n+1))\n",
    "            }\n",
    "            \n",
    "            # Get rid of previos key for 0 state\n",
    "            sr_probs_dict1.pop((FrogState(0), 0))\n",
    "            # Add terminal state\n",
    "            sr_probs_dict1[(FrogState(0), 0)] = 1/self.n\n",
    "           \n",
    "            # Get rid of previous key for n state\n",
    "            sr_probs_dict1.pop((FrogState(self.n), 0))\n",
    "            # Add terminal (good) state\n",
    "            sr_probs_dict1[(FrogState(self.n), 1)] = 1/self.n\n",
    "                \n",
    "            d1[1] = Categorical(sr_probs_dict1)    \n",
    "                    \n",
    "            d[state] = d1\n",
    "        return d"
   ]
  },
  {
   "cell_type": "code",
   "execution_count": 6,
   "id": "35d83848-17ef-4b7b-b1f4-960db027fcb1",
   "metadata": {},
   "outputs": [
    {
     "name": "stdout",
     "output_type": "stream",
     "text": [
      "For State FrogState(position=1):\n",
      "  Do Action 1 with Probability 1.000\n",
      "For State FrogState(position=2):\n",
      "  Do Action 0 with Probability 1.000\n",
      "For State FrogState(position=3):\n",
      "  Do Action 0 with Probability 1.000\n",
      "For State FrogState(position=4):\n",
      "  Do Action 0 with Probability 1.000\n",
      "For State FrogState(position=5):\n",
      "  Do Action 0 with Probability 1.000\n",
      "For State FrogState(position=6):\n",
      "  Do Action 0 with Probability 1.000\n",
      "For State FrogState(position=7):\n",
      "  Do Action 0 with Probability 1.000\n",
      "For State FrogState(position=8):\n",
      "  Do Action 0 with Probability 1.000\n",
      "\n"
     ]
    }
   ],
   "source": [
    "import numpy as np\n",
    "n = 9\n",
    "\n",
    "policies = create_policies(n)\n",
    "\n",
    "myFrogFMDP = FrogFMDP(n)\n",
    "list_of_value_funcs = []\n",
    "for mypol in policies:\n",
    "    FMRP = myFrogFMDP.apply_finite_policy(policy=mypol)\n",
    "    \n",
    "    value_func = FMRP.get_value_function_vec(gamma=1)\n",
    "    list_of_value_funcs.append(value_func)\n",
    "#print(list_of_value_funcs)\n",
    "sums_of_value_funcs = [sum(vf) for vf in list_of_value_funcs]\n",
    "opt_policy = np.argmax(sums_of_value_funcs)\n",
    "print(policies[opt_policy])"
   ]
  },
  {
   "cell_type": "markdown",
   "id": "d93572b9-ebfc-450a-a3b0-8175ebcb02ee",
   "metadata": {},
   "source": [
    "## It would appear that the optimal policy is always to Croak B on lilypad 1, and Croak A on all other lilypads. "
   ]
  },
  {
   "cell_type": "markdown",
   "id": "d7120dca-e764-4c36-924a-b4f7abd2789f",
   "metadata": {},
   "source": [
    "### I changed the reward amounts such that all positions recieve reward 0, except for position n which provides reward 1. The value function at every position is the expectation of the return for that position, which is the probability of getting to state n, times the reward in that state (1), which condenses simply to the probability of getting to state n.  "
   ]
  },
  {
   "cell_type": "code",
   "execution_count": 7,
   "id": "c3571c20-2727-487a-9f0e-1f683a6309fa",
   "metadata": {},
   "outputs": [],
   "source": [
    "from matplotlib import pyplot as plt"
   ]
  },
  {
   "cell_type": "code",
   "execution_count": 8,
   "id": "9c51ae0d-baea-471c-ac95-e5e09bd36029",
   "metadata": {},
   "outputs": [
    {
     "data": {
      "image/png": "[encoded data removed]",
      "text/plain": [
       "<Figure size 432x288 with 1 Axes>"
      ]
     },
     "metadata": {
      "needs_background": "light"
     },
     "output_type": "display_data"
    },
    {
     "data": {
      "image/png": "[encoded data removed]",
      "text/plain": [
       "<Figure size 432x288 with 1 Axes>"
      ]
     },
     "metadata": {
      "needs_background": "light"
     },
     "output_type": "display_data"
    }
   ],
   "source": [
    "plt.plot(list_of_value_funcs[opt_policy], '-')\n",
    "plt.title(\"Escape Probability for Optimal Policy\")\n",
    "plt.show()\n",
    "decisions = [policies[opt_policy].policy_map[FrogState(i)].sample() for i in range(1,n)]\n",
    "plt.plot(list(range(1,n)), decisions)\n",
    "plt.title(\"Croak decision. A=0, B=1\")\n",
    "plt.show()"
   ]
  },
  {
   "cell_type": "markdown",
   "id": "f9950fa3-4af8-44aa-a7ad-ecae2b7da21c",
   "metadata": {},
   "source": [
    "# 4"
   ]
  },
  {
   "cell_type": "markdown",
   "id": "329bc4d1-309b-4ea5-a2d2-9ec14334e6a5",
   "metadata": {},
   "source": [
    "## Action --> Minimize cost --> Minimize $\\mathbb{E}[e^{as'}]$\n",
    "\n",
    "## $ s' \\sim N(s,\\sigma^2)$"
   ]
  },
  {
   "cell_type": "markdown",
   "id": "fce3a4e3-2d56-487d-8f62-f9cc9e3f4aa3",
   "metadata": {},
   "source": [
    "## Minimize $\\mathbb{E}[e^{\\beta}]$ where $\\beta \\sim N(as, a^2 \\sigma^2)$\n",
    "\n",
    "## $\\mathbb{E}[\\beta] = e^{a s + \\frac{a^2 \\sigma^2}{2}}$"
   ]
  },
  {
   "cell_type": "markdown",
   "id": "a67a0470-1a6a-40f4-8278-0dbf03fe8f0a",
   "metadata": {},
   "source": [
    "## This is a convex function, so a minimum does exist. Over all $a \\in R$, the minimum occurs where:\n",
    "\n",
    "## $\\frac{\\partial}{\\partial a} = (a \\sigma^2 + s) * e^{as + \\frac{1}{2}a^2\\sigma^2} = 0 $ --> $a\\sigma^2 = -s$\n",
    "\n",
    "## $a = \\frac{-s}{\\sigma^2}$"
   ]
  },
  {
   "cell_type": "markdown",
   "id": "35cf8055-e9b4-4589-9d16-1fb84e40205f",
   "metadata": {},
   "source": [
    "This defines the optimal action in any state"
   ]
  },
  {
   "cell_type": "code",
   "execution_count": null,
   "id": "a0043508-7c4a-404d-89ee-50037679fdc0",
   "metadata": {},
   "outputs": [],
   "source": []
  }
 ],
 "metadata": {
  "kernelspec": {
   "display_name": "Python 3 (ipykernel)",
   "language": "python",
   "name": "python3"
  },
  "language_info": {
   "codemirror_mode": {
    "name": "ipython",
    "version": 3
   },
   "file_extension": ".py",
   "mimetype": "text/x-python",
   "name": "python",
   "nbconvert_exporter": "python",
   "pygments_lexer": "ipython3",
   "version": "3.8.12"
  }
 },
 "nbformat": 4,
 "nbformat_minor": 5
}
