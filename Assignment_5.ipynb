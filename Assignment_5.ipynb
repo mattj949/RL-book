{
 "cells": [
  {
   "cell_type": "code",
   "execution_count": 1,
   "id": "8ae14cd2-40a8-4c3f-ab0c-30dc1d6c8c26",
   "metadata": {},
   "outputs": [],
   "source": [
    "import numpy as np\n",
    "from matplotlib import pyplot as plt\n",
    "\n",
    "from rl.function_approx import *"
   ]
  },
  {
   "cell_type": "markdown",
   "id": "12a65227-e480-4c89-944b-116578ccfdd2",
   "metadata": {},
   "source": [
    "### From RL-book:"
   ]
  },
  {
   "cell_type": "code",
   "execution_count": 5,
   "id": "a03054b6-4d9a-45cc-9326-027e3ceeefc4",
   "metadata": {},
   "outputs": [],
   "source": [
    "@dataclass(frozen=True)\n",
    "class BSplineApprox(FunctionApprox[X]):\n",
    "    feature_function: Callable[[X], float]\n",
    "    degree: int\n",
    "    knots: np.ndarray = field(default_factory=lambda: np.array([]))\n",
    "    coeffs: np.ndarray = field(default_factory=lambda: np.array([]))\n",
    "\n",
    "    def get_feature_values(self, x_values_seq: Iterable[X]) -> Sequence[float]:\n",
    "        return [self.feature_function(x) for x in x_values_seq]\n",
    "\n",
    "    def representational_gradient(self, x_value: X):\n",
    "        feature_val: float = self.feature_function(x_value)\n",
    "        eps: float = 1e-6\n",
    "        one_hots: np.array = np.eye(len(self.coeffs))\n",
    "        return replace(\n",
    "            self,\n",
    "            coeffs=np.array([(\n",
    "                BSpline(\n",
    "                    self.knots,\n",
    "                    c + one_hots[i] * eps,\n",
    "                    self.degree\n",
    "                )(feature_val) -\n",
    "                BSpline(\n",
    "                    self.knots,\n",
    "                    c - one_hots[i] * eps,\n",
    "                    self.degree\n",
    "                )(feature_val)\n",
    "            ) / (2 * eps) for i, c in enumerate(self.coeffs)]))\n",
    "\n",
    "    def evaluate(self, x_values_seq: Iterable[X]) -> np.ndarray:\n",
    "        spline_func: Callable[[Sequence[float]], np.ndarray] = \\\n",
    "            BSpline(self.knots, self.coeffs, self.degree)\n",
    "        return spline_func(self.get_feature_values(x_values_seq))\n",
    "\n",
    "    def update(\n",
    "        self,\n",
    "        xy_vals_seq: Iterable[Tuple[X, float]]\n",
    "    ):\n",
    "        x_vals, y_vals = zip(*xy_vals_seq)\n",
    "        feature_vals: Sequence[float] = self.get_feature_values(x_vals)\n",
    "        sorted_pairs: Sequence[Tuple[float, float]] = \\\n",
    "            sorted(zip(feature_vals, y_vals), key=itemgetter(0))\n",
    "        new_knots, new_coeffs, _ = splrep(\n",
    "            [f for f, _ in sorted_pairs],\n",
    "            [y for _, y in sorted_pairs],\n",
    "            k=self.degree\n",
    "        )\n",
    "        return replace(\n",
    "            self,\n",
    "            knots=new_knots,\n",
    "            coeffs=new_coeffs\n",
    "        )\n",
    "\n",
    "    def solve(\n",
    "        self,\n",
    "        xy_vals_seq: Iterable[Tuple[X, float]],\n",
    "        error_tolerance: Optional[float] = None\n",
    "    ):\n",
    "        return self.update(xy_vals_seq)\n",
    "\n",
    "    def within(self, other: FunctionApprox[X], tolerance: float) -> bool:\n",
    "        if isinstance(other, BSplineApprox):\n",
    "            return \\\n",
    "                np.all(np.abs(self.knots - other.knots) <= tolerance).item() \\\n",
    "                and \\\n",
    "                np.all(np.abs(self.coeffs - other.coeffs) <= tolerance).item()\n",
    "\n",
    "        return False"
   ]
  },
  {
   "cell_type": "code",
   "execution_count": 9,
   "id": "f77c22d8-facc-4059-8a97-0c75a8b2675e",
   "metadata": {},
   "outputs": [
    {
     "ename": "TypeError",
     "evalue": "Can't instantiate abstract class BSplineApprox with abstract methods __add__, __mul__, objective_gradient, update_with_gradient",
     "output_type": "error",
     "traceback": [
      "\u001b[0;31m---------------------------------------------------------------------------\u001b[0m",
      "\u001b[0;31mTypeError\u001b[0m                                 Traceback (most recent call last)",
      "\u001b[0;32m/var/folders/fj/qb_tch8j6sdg7th8gw7q9w000000gn/T/ipykernel_7327/939169297.py\u001b[0m in \u001b[0;36m<module>\u001b[0;34m\u001b[0m\n\u001b[1;32m      9\u001b[0m \u001b[0;34m\u001b[0m\u001b[0m\n\u001b[1;32m     10\u001b[0m \u001b[0;34m\u001b[0m\u001b[0m\n\u001b[0;32m---> 11\u001b[0;31m Func_Approx = BSplineApprox(\n\u001b[0m\u001b[1;32m     12\u001b[0m                 \u001b[0;32mlambda\u001b[0m \u001b[0mx\u001b[0m\u001b[0;34m:\u001b[0m \u001b[0mx\u001b[0m\u001b[0;34m,\u001b[0m\u001b[0;34m\u001b[0m\u001b[0;34m\u001b[0m\u001b[0m\n\u001b[1;32m     13\u001b[0m                 5)\n",
      "\u001b[0;32m~/opt/anaconda3/envs/cme241/lib/python3.8/typing.py\u001b[0m in \u001b[0;36m__new__\u001b[0;34m(cls, *args, **kwds)\u001b[0m\n\u001b[1;32m    871\u001b[0m                             \"it can be used only as a base class\")\n\u001b[1;32m    872\u001b[0m         \u001b[0;32mif\u001b[0m \u001b[0msuper\u001b[0m\u001b[0;34m(\u001b[0m\u001b[0;34m)\u001b[0m\u001b[0;34m.\u001b[0m\u001b[0m__new__\u001b[0m \u001b[0;32mis\u001b[0m \u001b[0mobject\u001b[0m\u001b[0;34m.\u001b[0m\u001b[0m__new__\u001b[0m \u001b[0;32mand\u001b[0m \u001b[0mcls\u001b[0m\u001b[0;34m.\u001b[0m\u001b[0m__init__\u001b[0m \u001b[0;32mis\u001b[0m \u001b[0;32mnot\u001b[0m \u001b[0mobject\u001b[0m\u001b[0;34m.\u001b[0m\u001b[0m__init__\u001b[0m\u001b[0;34m:\u001b[0m\u001b[0;34m\u001b[0m\u001b[0;34m\u001b[0m\u001b[0m\n\u001b[0;32m--> 873\u001b[0;31m             \u001b[0mobj\u001b[0m \u001b[0;34m=\u001b[0m \u001b[0msuper\u001b[0m\u001b[0;34m(\u001b[0m\u001b[0;34m)\u001b[0m\u001b[0;34m.\u001b[0m\u001b[0m__new__\u001b[0m\u001b[0;34m(\u001b[0m\u001b[0mcls\u001b[0m\u001b[0;34m)\u001b[0m\u001b[0;34m\u001b[0m\u001b[0;34m\u001b[0m\u001b[0m\n\u001b[0m\u001b[1;32m    874\u001b[0m         \u001b[0;32melse\u001b[0m\u001b[0;34m:\u001b[0m\u001b[0;34m\u001b[0m\u001b[0;34m\u001b[0m\u001b[0m\n\u001b[1;32m    875\u001b[0m             \u001b[0mobj\u001b[0m \u001b[0;34m=\u001b[0m \u001b[0msuper\u001b[0m\u001b[0;34m(\u001b[0m\u001b[0;34m)\u001b[0m\u001b[0;34m.\u001b[0m\u001b[0m__new__\u001b[0m\u001b[0;34m(\u001b[0m\u001b[0mcls\u001b[0m\u001b[0;34m,\u001b[0m \u001b[0;34m*\u001b[0m\u001b[0margs\u001b[0m\u001b[0;34m,\u001b[0m \u001b[0;34m**\u001b[0m\u001b[0mkwds\u001b[0m\u001b[0;34m)\u001b[0m\u001b[0;34m\u001b[0m\u001b[0;34m\u001b[0m\u001b[0m\n",
      "\u001b[0;31mTypeError\u001b[0m: Can't instantiate abstract class BSplineApprox with abstract methods __add__, __mul__, objective_gradient, update_with_gradient"
     ]
    }
   ],
   "source": [
    "### Generating sequence\n",
    "\n",
    "x_vals: np.ndarray = np.linspace(0,2*np.pi,50)\n",
    "y_vals: np.ndarray = np.asarray([np.cos(v) for v in x_vals])\n",
    "\n",
    "data: Iterable[Tuple[float,float]] = []\n",
    "for i in range(50):\n",
    "    data.append((x_vals[i], y_vals[i]))\n",
    "    \n",
    "    \n",
    "Func_Approx = BSplineApprox(\n",
    "                lambda x: x,\n",
    "                5)\n",
    "\n",
    "Func_Approx.solve(data)\n",
    "\n",
    "\n",
    "approx_y = Func_approx.evaluate(x_vals)"
   ]
  },
  {
   "cell_type": "code",
   "execution_count": null,
   "id": "7e482a6b-1c51-45c0-b744-a90d4009640a",
   "metadata": {},
   "outputs": [],
   "source": []
  }
 ],
 "metadata": {
  "kernelspec": {
   "display_name": "Python 3 (ipykernel)",
   "language": "python",
   "name": "python3"
  },
  "language_info": {
   "codemirror_mode": {
    "name": "ipython",
    "version": 3
   },
   "file_extension": ".py",
   "mimetype": "text/x-python",
   "name": "python",
   "nbconvert_exporter": "python",
   "pygments_lexer": "ipython3",
   "version": "3.8.12"
  }
 },
 "nbformat": 4,
 "nbformat_minor": 5
}
