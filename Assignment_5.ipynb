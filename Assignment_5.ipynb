{
 "cells": [
  {
   "cell_type": "code",
   "execution_count": 1,
   "id": "8ae14cd2-40a8-4c3f-ab0c-30dc1d6c8c26",
   "metadata": {},
   "outputs": [],
   "source": [
    "from rl.function_approx import *"
   ]
  },
  {
   "cell_type": "markdown",
   "id": "bb95091f-abf4-4057-9b3e-b90be20fec32",
   "metadata": {},
   "source": [
    "I'm going to pass on this assignment for the moment..."
   ]
  },
  {
   "cell_type": "code",
   "execution_count": null,
   "id": "165acfd1-f4c9-48bf-a377-af996f0e0e0d",
   "metadata": {},
   "outputs": [],
   "source": []
  }
 ],
 "metadata": {
  "kernelspec": {
   "display_name": "Python 3 (ipykernel)",
   "language": "python",
   "name": "python3"
  },
  "language_info": {
   "codemirror_mode": {
    "name": "ipython",
    "version": 3
   },
   "file_extension": ".py",
   "mimetype": "text/x-python",
   "name": "python",
   "nbconvert_exporter": "python",
   "pygments_lexer": "ipython3",
   "version": "3.8.12"
  }
 },
 "nbformat": 4,
 "nbformat_minor": 5
}
