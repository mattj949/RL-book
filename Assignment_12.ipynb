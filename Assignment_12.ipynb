{
 "cells": [
  {
   "cell_type": "markdown",
   "id": "6c4ad47e-fa67-4c9d-b967-81b69a0a9616",
   "metadata": {},
   "source": [
    "Notes: TD(lambda) is going to look similar to mc, since it requires a full trace experience to perform an update. However, we can place different weights based on the recency of visits to a particular state? \n",
    "\n",
    "lambda = 0 : TD(0)\n",
    "\n",
    "lambada = 1 : MC"
   ]
  },
  {
   "cell_type": "code",
   "execution_count": 3,
   "id": "e730f145-e9d4-4909-901c-c689af6d33dc",
   "metadata": {},
   "outputs": [],
   "source": [
    "import rl.markov_process as mp\n",
    "import numpy as np\n",
    "from rl.function_approx import Gradient\n",
    "from rl.approximate_dynamic_programming import ValueFunctionApprox\n",
    "from rl.function_approx import Tabular\n",
    "from rl.monte_carlo import *"
   ]
  },
  {
   "cell_type": "markdown",
   "id": "6be3a526-24b4-440c-a5a7-2acaf06d5f7b",
   "metadata": {},
   "source": [
    "### From RL-Book:"
   ]
  },
  {
   "cell_type": "code",
   "execution_count": 4,
   "id": "dbf164ba-4121-4a06-b353-7415edbf5c30",
   "metadata": {},
   "outputs": [],
   "source": [
    "def tabular_td_lambda_prediction(\n",
    "        traces: Iterable[Iterable[mp.TransitionStep[S]]],\n",
    "        approx_0: Tabular[S],\n",
    "        gamma: float,\n",
    "        lambd: float\n",
    ") -> Iterator[Tabular[S]]:\n",
    "    # Initial approximation\n",
    "    func_approx: Tabular[S] = approx_0\n",
    "    # yield this initial approximation\n",
    "    yield func_approx\n",
    "    \n",
    "    # For each trace experience:\n",
    "    for trace in traces:\n",
    "        el_tr: Gradient[Tabular[S]] = Gradient(func_approx).zero()\n",
    "        # For each atomic experience:\n",
    "        for step in trace:\n",
    "            x: NonTerminal[S] = step.state\n",
    "            y: float = step.reward + gamma * \\\n",
    "                extended_vf(func_approx, step.next_state)\n",
    "            el_tr = el_tr * (gamma * lambd) + func_approx.objective_gradient(\n",
    "                xy_vals_seq=[(x, y)],\n",
    "                obj_deriv_out_fun=lambda x1, y1: np.ones(len(x1))\n",
    "            )\n",
    "            func_approx = func_approx.update_with_gradient(\n",
    "                el_tr * (func_approx(x) - y)\n",
    "            )\n",
    "            yield func_approx"
   ]
  },
  {
   "cell_type": "code",
   "execution_count": 5,
   "id": "aaf92120-2c51-4b4a-a34e-51e2d4907f99",
   "metadata": {},
   "outputs": [],
   "source": [
    "def td_lambda_prediction(\n",
    "        traces: Iterable[Iterable[mp.TransitionStep[S]]],\n",
    "        approx_0: ValueFunctionApprox[S],\n",
    "        gamma: float,\n",
    "        lambd: float\n",
    ") -> Iterator[ValueFunctionApprox[S]]:\n",
    "    func_approx: ValueFunctionApprox[S] = approx_0\n",
    "    yield func_approx\n",
    "    for trace in traces:\n",
    "        el_tr: Gradient[ValueFunctionApprox[S]] = Gradient(func_approx).zero()\n",
    "        for step in trace:\n",
    "            x: NonTerminal[S] = step.state\n",
    "            y: float = step.reward + gamma * \\\n",
    "                extended_vf(func_approx, step.next_state)\n",
    "            el_tr = el_tr * (gamma * lambd) + func_approx.objective_gradient(\n",
    "                xy_vals_seq=[(x, y)],\n",
    "                obj_deriv_out_fun=lambda x1, y1: np.ones(len(x1))\n",
    "            )\n",
    "            func_approx = func_approx.update_with_gradient(\n",
    "                el_tr * (func_approx(x) - y)\n",
    "            )\n",
    "            yield func_approx"
   ]
  },
  {
   "cell_type": "markdown",
   "id": "a8c942b3-4827-478f-a9d6-def616934354",
   "metadata": {},
   "source": [
    "## Testing"
   ]
  },
  {
   "cell_type": "code",
   "execution_count": 6,
   "id": "9367ff6f-44e8-4cb0-9bf2-0d7139ed7a6e",
   "metadata": {},
   "outputs": [],
   "source": [
    "from rl.monte_carlo import *\n",
    "from rl.td import *\n",
    "from rl.chapter2.simple_inventory_mrp import *\n",
    "from rl.function_approx import Tabular\n",
    "from rl.distribution import Constant\n",
    "import rl.iterate as iterate"
   ]
  },
  {
   "cell_type": "code",
   "execution_count": 7,
   "id": "f8d0f524-9403-4d48-af3f-da8964f71802",
   "metadata": {},
   "outputs": [],
   "source": [
    "user_capacity = 2\n",
    "user_poisson_lambda = 1.0\n",
    "user_holding_cost = 1.0\n",
    "user_stockout_cost = 10.0\n",
    "\n",
    "user_gamma = 0.9\n",
    "\n",
    "si_mrp = SimpleInventoryMRPFinite(\n",
    "    capacity=user_capacity,\n",
    "    poisson_lambda=user_poisson_lambda,\n",
    "    holding_cost=user_holding_cost,\n",
    "    stockout_cost=user_stockout_cost\n",
    ")"
   ]
  },
  {
   "cell_type": "code",
   "execution_count": 8,
   "id": "6d4291a6-7689-40a2-8017-610d16e259f2",
   "metadata": {},
   "outputs": [
    {
     "name": "stdout",
     "output_type": "stream",
     "text": [
      "Value Function\n",
      "--------------\n",
      "{NonTerminal(state=InventoryState(on_hand=0, on_order=0)): -35.511,\n",
      " NonTerminal(state=InventoryState(on_hand=0, on_order=1)): -27.932,\n",
      " NonTerminal(state=InventoryState(on_hand=0, on_order=2)): -28.345,\n",
      " NonTerminal(state=InventoryState(on_hand=1, on_order=0)): -28.932,\n",
      " NonTerminal(state=InventoryState(on_hand=1, on_order=1)): -29.345,\n",
      " NonTerminal(state=InventoryState(on_hand=2, on_order=0)): -30.345}\n",
      "\n"
     ]
    }
   ],
   "source": [
    "# Correct Value Function:\n",
    "\n",
    "print(\"Value Function\")\n",
    "print(\"--------------\")\n",
    "si_mrp.display_value_function(gamma=user_gamma)\n",
    "print()"
   ]
  },
  {
   "cell_type": "code",
   "execution_count": 9,
   "id": "f523b498-e327-46c0-940b-400169a76ea1",
   "metadata": {},
   "outputs": [],
   "source": [
    "from rl.chapter10.prediction_utils import *"
   ]
  },
  {
   "cell_type": "code",
   "execution_count": 23,
   "id": "097b6cc1-9b75-4ad0-ba4b-d5d0fd655626",
   "metadata": {},
   "outputs": [],
   "source": [
    "true_vf = si_mrp.get_value_function_vec(gamma=user_gamma)"
   ]
  },
  {
   "cell_type": "code",
   "execution_count": 17,
   "id": "1ff6f5ad-8050-4286-8937-b65fbdf23719",
   "metadata": {},
   "outputs": [],
   "source": [
    "# MC\n",
    "\n",
    "mc_dist = Constant(NonTerminal(InventoryState(0,0)))\n",
    "mc_trace_experiences = si_mrp.reward_traces(mc_dist)\n",
    "\n",
    "mc_approx = Tabular()\n",
    "mc_value_functs = mc_prediction(mc_trace_experiences, mc_approx, user_gamma)\n",
    "\n",
    "v_num = 0\n",
    "num_iterations = 20000\n",
    "processed_value_funcs_mc = []\n",
    "for i in mc_value_functs:\n",
    "    processed_value_funcs_mc += [i]\n",
    "    v_num += 1\n",
    "    if v_num > num_iterations:\n",
    "        break"
   ]
  },
  {
   "cell_type": "code",
   "execution_count": 18,
   "id": "c0a27bbe-80d3-4e8e-be02-fc20b7ea6805",
   "metadata": {},
   "outputs": [],
   "source": [
    "# TD\n",
    "td_dist = Constant(NonTerminal(InventoryState(0,0)))\n",
    "td_trace_experiences = si_mrp.simulate_reward(td_dist)\n",
    "\n",
    "from rl.function_approx import learning_rate_schedule\n",
    "initial_learning_rate = 0.03\n",
    "H = 1000\n",
    "exponent  = 0.5\n",
    "\n",
    "learning_rate_func = learning_rate_schedule(\n",
    "    initial_learning_rate=initial_learning_rate,\n",
    "    half_life=H,\n",
    "    exponent=exponent)\n",
    "\n",
    "td_approx = Tabular(count_to_weight_func=learning_rate_func)\n",
    "td_value_functs = td_prediction(td_trace_experiences, td_approx, user_gamma)\n",
    "\n",
    "v_num = 0\n",
    "num_iterations = 20000\n",
    "processed_value_funcs_td = []\n",
    "for i in td_value_functs:\n",
    "    processed_value_funcs_td += [i]\n",
    "    v_num += 1\n",
    "    if v_num > num_iterations:\n",
    "        break"
   ]
  },
  {
   "cell_type": "code",
   "execution_count": 44,
   "id": "e484446f-5d8b-4adc-a376-8727b59c4aca",
   "metadata": {},
   "outputs": [],
   "source": [
    "# TD-Lambda 0.5\n",
    "\n",
    "tdl_dist = Constant(NonTerminal(InventoryState(0,0)))\n",
    "tdl_trace_experiences = si_mrp.reward_traces(tdl_dist)\n",
    "\n",
    "learning_rate_func = learning_rate_schedule(\n",
    "    initial_learning_rate=initial_learning_rate,\n",
    "    half_life=H,\n",
    "    exponent=exponent)\n",
    "\n",
    "\n",
    "tdl_approx = Tabular(count_to_weight_func=learning_rate_func)\n",
    "tdl_value_functs = td_lambda_prediction(tdl_trace_experiences, tdl_approx, user_gamma, 0.5)\n",
    "\n",
    "v_num = 0\n",
    "num_iterations = 20000\n",
    "processed_value_funcs_tdl05 = []\n",
    "for i in tdl_value_functs:\n",
    "    processed_value_funcs_tdl05 += [i]\n",
    "    v_num += 1\n",
    "    if v_num > num_iterations:\n",
    "        break"
   ]
  },
  {
   "cell_type": "code",
   "execution_count": 45,
   "id": "6fa66a4d-6f70-4396-9066-a26d3d4f904c",
   "metadata": {},
   "outputs": [],
   "source": [
    "# TD-Lambda 0.3\n",
    "\n",
    "tdl_dist = Constant(NonTerminal(InventoryState(0,0)))\n",
    "tdl_trace_experiences = si_mrp.reward_traces(tdl_dist)\n",
    "\n",
    "learning_rate_func = learning_rate_schedule(\n",
    "    initial_learning_rate=initial_learning_rate,\n",
    "    half_life=H,\n",
    "    exponent=exponent)\n",
    "\n",
    "\n",
    "tdl_approx = Tabular(count_to_weight_func=learning_rate_func)\n",
    "tdl_value_functs = td_lambda_prediction(tdl_trace_experiences, tdl_approx, user_gamma, 0.3)\n",
    "\n",
    "v_num = 0\n",
    "num_iterations = 20000\n",
    "processed_value_funcs_tdl03 = []\n",
    "for i in tdl_value_functs:\n",
    "    processed_value_funcs_tdl03 += [i]\n",
    "    v_num += 1\n",
    "    if v_num > num_iterations:\n",
    "        break"
   ]
  },
  {
   "cell_type": "code",
   "execution_count": 46,
   "id": "8e029d0f-0f7d-404d-bc13-f1f23ffbf4c5",
   "metadata": {},
   "outputs": [],
   "source": [
    "# TD-Lambda 0.7\n",
    "\n",
    "tdl_dist = Constant(NonTerminal(InventoryState(0,0)))\n",
    "tdl_trace_experiences = si_mrp.reward_traces(tdl_dist)\n",
    "\n",
    "learning_rate_func = learning_rate_schedule(\n",
    "    initial_learning_rate=initial_learning_rate,\n",
    "    half_life=H,\n",
    "    exponent=exponent)\n",
    "\n",
    "\n",
    "tdl_approx = Tabular(count_to_weight_func=learning_rate_func)\n",
    "tdl_value_functs = td_lambda_prediction(tdl_trace_experiences, tdl_approx, user_gamma, 0.7)\n",
    "\n",
    "v_num = 0\n",
    "num_iterations = 20000\n",
    "processed_value_funcs_tdl07 = []\n",
    "for i in tdl_value_functs:\n",
    "    processed_value_funcs_tdl07 += [i]\n",
    "    v_num += 1\n",
    "    if v_num > num_iterations:\n",
    "        break"
   ]
  },
  {
   "cell_type": "code",
   "execution_count": 47,
   "id": "07050f6d-c88c-4e6e-8ef7-986768e9a6a6",
   "metadata": {},
   "outputs": [
    {
     "data": {
      "text/plain": [
       "Tabular(values_map={NonTerminal(state=InventoryState(on_hand=0, on_order=0)): -35.48821473361368, NonTerminal(state=InventoryState(on_hand=0, on_order=2)): -28.31933830305567, NonTerminal(state=InventoryState(on_hand=2, on_order=0)): -30.31323235705847, NonTerminal(state=InventoryState(on_hand=1, on_order=0)): -28.91191399510026, NonTerminal(state=InventoryState(on_hand=1, on_order=1)): -29.321822325742943, NonTerminal(state=InventoryState(on_hand=0, on_order=1)): -27.92934076429053}, counts_map={NonTerminal(state=InventoryState(on_hand=0, on_order=0)): 323200, NonTerminal(state=InventoryState(on_hand=0, on_order=2)): 320929, NonTerminal(state=InventoryState(on_hand=2, on_order=0)): 423448, NonTerminal(state=InventoryState(on_hand=1, on_order=0)): 423785, NonTerminal(state=InventoryState(on_hand=1, on_order=1)): 414928, NonTerminal(state=InventoryState(on_hand=0, on_order=1)): 713710}, count_to_weight_func=<function Tabular.<lambda>.<locals>.<lambda> at 0x7fad1145d5e0>)"
      ]
     },
     "execution_count": 47,
     "metadata": {},
     "output_type": "execute_result"
    }
   ],
   "source": [
    "processed_value_funcs_mc[-1]"
   ]
  },
  {
   "cell_type": "code",
   "execution_count": 48,
   "id": "eb5eba3c-e110-4ec5-a5ec-8810acea23d8",
   "metadata": {},
   "outputs": [
    {
     "data": {
      "text/plain": [
       "Tabular(values_map={NonTerminal(state=InventoryState(on_hand=0, on_order=0)): -35.0920196766914, NonTerminal(state=InventoryState(on_hand=0, on_order=2)): -27.719408638296574, NonTerminal(state=InventoryState(on_hand=1, on_order=0)): -28.815091827543668, NonTerminal(state=InventoryState(on_hand=0, on_order=1)): -27.645037117744685, NonTerminal(state=InventoryState(on_hand=1, on_order=1)): -29.127270090981874, NonTerminal(state=InventoryState(on_hand=2, on_order=0)): -29.90762772169935}, counts_map={NonTerminal(state=InventoryState(on_hand=0, on_order=0)): 2357, NonTerminal(state=InventoryState(on_hand=0, on_order=2)): 2357, NonTerminal(state=InventoryState(on_hand=1, on_order=0)): 3234, NonTerminal(state=InventoryState(on_hand=0, on_order=1)): 5553, NonTerminal(state=InventoryState(on_hand=1, on_order=1)): 3234, NonTerminal(state=InventoryState(on_hand=2, on_order=0)): 3265}, count_to_weight_func=<function learning_rate_schedule.<locals>.lr_func at 0x7fad119be310>)"
      ]
     },
     "execution_count": 48,
     "metadata": {},
     "output_type": "execute_result"
    }
   ],
   "source": [
    "processed_value_funcs_td[-1]"
   ]
  },
  {
   "cell_type": "code",
   "execution_count": 49,
   "id": "035aa653-e3d6-49e5-a34f-e8fef339ee27",
   "metadata": {},
   "outputs": [
    {
     "data": {
      "text/plain": [
       "Tabular(values_map={NonTerminal(state=InventoryState(on_hand=0, on_order=0)): -35.55228669757933, NonTerminal(state=InventoryState(on_hand=0, on_order=2)): -28.467003564568973, NonTerminal(state=InventoryState(on_hand=1, on_order=0)): -29.04882973993108, NonTerminal(state=InventoryState(on_hand=1, on_order=1)): -29.652169445277288, NonTerminal(state=InventoryState(on_hand=2, on_order=0)): -30.65286670805174, NonTerminal(state=InventoryState(on_hand=0, on_order=1)): -28.13102892165675}, counts_map={NonTerminal(state=InventoryState(on_hand=0, on_order=0)): 2344, NonTerminal(state=InventoryState(on_hand=0, on_order=2)): 2344, NonTerminal(state=InventoryState(on_hand=1, on_order=0)): 3229, NonTerminal(state=InventoryState(on_hand=1, on_order=1)): 3228, NonTerminal(state=InventoryState(on_hand=2, on_order=0)): 3423, NonTerminal(state=InventoryState(on_hand=0, on_order=1)): 5432}, count_to_weight_func=<function learning_rate_schedule.<locals>.lr_func at 0x7fad18959d30>)"
      ]
     },
     "execution_count": 49,
     "metadata": {},
     "output_type": "execute_result"
    }
   ],
   "source": [
    "processed_value_funcs_tdl05[-1]"
   ]
  },
  {
   "cell_type": "markdown",
   "id": "53ce07e0-8155-4b07-9ec3-eedea251f303",
   "metadata": {},
   "source": [
    "## Calculate RMSE"
   ]
  },
  {
   "cell_type": "code",
   "execution_count": 51,
   "id": "49138109-c628-49a1-b743-7b3e27ce4314",
   "metadata": {},
   "outputs": [
    {
     "data": {
      "image/png": "[encoded data removed]",
      "text/plain": [
       "<Figure size 1080x504 with 1 Axes>"
      ]
     },
     "metadata": {
      "needs_background": "light"
     },
     "output_type": "display_data"
    }
   ],
   "source": [
    "from matplotlib import pyplot as plt\n",
    "states: Sequence[NonTerminal[S]] = si_mrp.non_terminal_states\n",
    "plot_start = 0\n",
    "plt.figure(figsize=(15,7))\n",
    "\n",
    "# MC\n",
    "mc_errors = []\n",
    "for i, mc_f in enumerate(processed_value_funcs_mc):\n",
    "    \n",
    "    mc_errors.append(sqrt(sum(\n",
    "        (mc_f(s) - true_vf[j]) ** 2 for j, s in enumerate(states)\n",
    "    ) / len(states))) \n",
    "mc_plot = mc_errors[plot_start:]\n",
    "plt.plot(\n",
    "    range(len(mc_plot)),\n",
    "    mc_plot,\n",
    "    linestyle='--'\n",
    ")\n",
    "\n",
    "\n",
    "# TD\n",
    "td_errors = []\n",
    "for i, td_f in enumerate(processed_value_funcs_td):\n",
    "    \n",
    "    td_errors.append(sqrt(sum(\n",
    "        (td_f(s) - true_vf[j]) ** 2 for j, s in enumerate(states)\n",
    "    ) / len(states)))\n",
    "td_plot = td_errors[plot_start:]\n",
    "plt.plot(\n",
    "    range(len(td_plot)),\n",
    "    td_plot,\n",
    "    linestyle='--'\n",
    ")\n",
    "\n",
    "\n",
    "# TD-lambda03\n",
    "tdl_errors03 = []\n",
    "for i, tdl_f in enumerate(processed_value_funcs_tdl03):\n",
    "    \n",
    "    tdl_errors03.append(sqrt(sum(\n",
    "        (tdl_f(s) - true_vf[j]) ** 2 for j, s in enumerate(states)\n",
    "    ) / len(states)))\n",
    "tdl_plot03 = tdl_errors03[plot_start:]\n",
    "plt.plot(\n",
    "    range(len(tdl_plot03)),\n",
    "    tdl_plot03,\n",
    "    linestyle='--'\n",
    ")\n",
    "\n",
    "# TD-lambda05\n",
    "tdl_errors05 = []\n",
    "for i, tdl_f in enumerate(processed_value_funcs_tdl05):\n",
    "    \n",
    "    tdl_errors05.append(sqrt(sum(\n",
    "        (tdl_f(s) - true_vf[j]) ** 2 for j, s in enumerate(states)\n",
    "    ) / len(states)))\n",
    "tdl05_plot = tdl_errors05[plot_start:]\n",
    "plt.plot(\n",
    "    range(len(tdl05_plot)),\n",
    "    tdl05_plot,\n",
    "    linestyle='--'\n",
    ")\n",
    "\n",
    "# TD-lambda07\n",
    "tdl_errors07 = []\n",
    "for i, tdl_f in enumerate(processed_value_funcs_tdl07):\n",
    "    \n",
    "    tdl_errors07.append(sqrt(sum(\n",
    "        (tdl_f(s) - true_vf[j]) ** 2 for j, s in enumerate(states)\n",
    "    ) / len(states)))\n",
    "tdl_plot07 = tdl_errors07[plot_start:]\n",
    "plt.plot(\n",
    "    range(len(tdl_plot07)),\n",
    "    tdl_plot07,\n",
    "    linestyle='--'\n",
    ")\n",
    "\n",
    "\n",
    "\n",
    "\n",
    "plt.xlabel(\"Iteration\")\n",
    "plt.ylabel(\"Value Function RMSE\")\n",
    "plt.title(\n",
    "    \"RMSE vs. iteration\"\n",
    ")\n",
    "plt.grid(True)\n",
    "plt.legend([\"MC\", \"TD\", \"TD-L0.3\", \"TD-L0.5\", \"TD-L0.7\"])\n",
    "plt.show()"
   ]
  }
 ],
 "metadata": {
  "kernelspec": {
   "display_name": "Python 3 (ipykernel)",
   "language": "python",
   "name": "python3"
  },
  "language_info": {
   "codemirror_mode": {
    "name": "ipython",
    "version": 3
   },
   "file_extension": ".py",
   "mimetype": "text/x-python",
   "name": "python",
   "nbconvert_exporter": "python",
   "pygments_lexer": "ipython3",
   "version": "3.8.12"
  }
 },
 "nbformat": 4,
 "nbformat_minor": 5
}
